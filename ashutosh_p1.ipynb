{
  "nbformat": 4,
  "nbformat_minor": 0,
  "metadata": {
    "colab": {
      "name": "ashutosh_p1.ipynb",
      "provenance": []
    },
    "kernelspec": {
      "display_name": "Python 3",
      "language": "python",
      "name": "python3"
    },
    "language_info": {
      "codemirror_mode": {
        "name": "ipython",
        "version": 3
      },
      "file_extension": ".py",
      "mimetype": "text/x-python",
      "name": "python",
      "nbconvert_exporter": "python",
      "pygments_lexer": "ipython3",
      "version": "3.7.6"
    }
  },
  "cells": [
    {
      "cell_type": "code",
      "metadata": {
        "colab_type": "code",
        "id": "4wvoUCAmhfBL",
        "colab": {}
      },
      "source": [
        "import numpy as np,pandas as pd,matplotlib.pyplot as plt, seaborn as sns, warnings\n",
        "warnings.filterwarnings('ignore')\n",
        "pd.set_option(\"display.precision\", 2)\n",
        "pd.set_option('display.max_rows', 500)\n",
        "pd.set_option('display.max_columns', 500)\n",
        "pd.set_option('display.width', 1000)\n",
        "\n",
        "from google.colab import files\n",
        "#uploaded = files.upload()"
      ],
      "execution_count": 41,
      "outputs": []
    },
    {
      "cell_type": "markdown",
      "metadata": {
        "colab_type": "text",
        "id": "3dyZnniNhfBZ"
      },
      "source": [
        "### import loan ccv file"
      ]
    },
    {
      "cell_type": "code",
      "metadata": {
        "colab_type": "code",
        "id": "fwe7LJsNhfBa",
        "colab": {}
      },
      "source": [
        "loan=pd.read_csv(\"https://raw.githubusercontent.com/aimlhoney/LENDING_CLUB_CASE_STUDY/master/loan.csv\",encoding='palmos',low_memory=False)"
      ],
      "execution_count": 42,
      "outputs": []
    },
    {
      "cell_type": "code",
      "metadata": {
        "colab_type": "code",
        "id": "w2K7Tm7WhfBg",
        "colab": {
          "base_uri": "https://localhost:8080/",
          "height": 673
        },
        "outputId": "615d8653-cf89-4250-8d5b-feee2a3789e3"
      },
      "source": [
        "loan.head()"
      ],
      "execution_count": 43,
      "outputs": [
        {
          "output_type": "execute_result",
          "data": {
            "text/html": [
              "<div>\n",
              "<style scoped>\n",
              "    .dataframe tbody tr th:only-of-type {\n",
              "        vertical-align: middle;\n",
              "    }\n",
              "\n",
              "    .dataframe tbody tr th {\n",
              "        vertical-align: top;\n",
              "    }\n",
              "\n",
              "    .dataframe thead th {\n",
              "        text-align: right;\n",
              "    }\n",
              "</style>\n",
              "<table border=\"1\" class=\"dataframe\">\n",
              "  <thead>\n",
              "    <tr style=\"text-align: right;\">\n",
              "      <th></th>\n",
              "      <th>id</th>\n",
              "      <th>member_id</th>\n",
              "      <th>loan_amnt</th>\n",
              "      <th>funded_amnt</th>\n",
              "      <th>funded_amnt_inv</th>\n",
              "      <th>term</th>\n",
              "      <th>int_rate</th>\n",
              "      <th>installment</th>\n",
              "      <th>grade</th>\n",
              "      <th>sub_grade</th>\n",
              "      <th>emp_title</th>\n",
              "      <th>emp_length</th>\n",
              "      <th>home_ownership</th>\n",
              "      <th>annual_inc</th>\n",
              "      <th>verification_status</th>\n",
              "      <th>issue_d</th>\n",
              "      <th>loan_status</th>\n",
              "      <th>pymnt_plan</th>\n",
              "      <th>url</th>\n",
              "      <th>desc</th>\n",
              "      <th>purpose</th>\n",
              "      <th>title</th>\n",
              "      <th>zip_code</th>\n",
              "      <th>addr_state</th>\n",
              "      <th>dti</th>\n",
              "      <th>delinq_2yrs</th>\n",
              "      <th>earliest_cr_line</th>\n",
              "      <th>inq_last_6mths</th>\n",
              "      <th>mths_since_last_delinq</th>\n",
              "      <th>mths_since_last_record</th>\n",
              "      <th>open_acc</th>\n",
              "      <th>pub_rec</th>\n",
              "      <th>revol_bal</th>\n",
              "      <th>revol_util</th>\n",
              "      <th>total_acc</th>\n",
              "      <th>initial_list_status</th>\n",
              "      <th>out_prncp</th>\n",
              "      <th>out_prncp_inv</th>\n",
              "      <th>total_pymnt</th>\n",
              "      <th>total_pymnt_inv</th>\n",
              "      <th>total_rec_prncp</th>\n",
              "      <th>total_rec_int</th>\n",
              "      <th>total_rec_late_fee</th>\n",
              "      <th>recoveries</th>\n",
              "      <th>collection_recovery_fee</th>\n",
              "      <th>last_pymnt_d</th>\n",
              "      <th>last_pymnt_amnt</th>\n",
              "      <th>next_pymnt_d</th>\n",
              "      <th>last_credit_pull_d</th>\n",
              "      <th>collections_12_mths_ex_med</th>\n",
              "      <th>mths_since_last_major_derog</th>\n",
              "      <th>policy_code</th>\n",
              "      <th>application_type</th>\n",
              "      <th>annual_inc_joint</th>\n",
              "      <th>dti_joint</th>\n",
              "      <th>verification_status_joint</th>\n",
              "      <th>acc_now_delinq</th>\n",
              "      <th>tot_coll_amt</th>\n",
              "      <th>tot_cur_bal</th>\n",
              "      <th>open_acc_6m</th>\n",
              "      <th>open_il_6m</th>\n",
              "      <th>open_il_12m</th>\n",
              "      <th>open_il_24m</th>\n",
              "      <th>mths_since_rcnt_il</th>\n",
              "      <th>total_bal_il</th>\n",
              "      <th>il_util</th>\n",
              "      <th>open_rv_12m</th>\n",
              "      <th>open_rv_24m</th>\n",
              "      <th>max_bal_bc</th>\n",
              "      <th>all_util</th>\n",
              "      <th>total_rev_hi_lim</th>\n",
              "      <th>inq_fi</th>\n",
              "      <th>total_cu_tl</th>\n",
              "      <th>inq_last_12m</th>\n",
              "      <th>acc_open_past_24mths</th>\n",
              "      <th>avg_cur_bal</th>\n",
              "      <th>bc_open_to_buy</th>\n",
              "      <th>bc_util</th>\n",
              "      <th>chargeoff_within_12_mths</th>\n",
              "      <th>delinq_amnt</th>\n",
              "      <th>mo_sin_old_il_acct</th>\n",
              "      <th>mo_sin_old_rev_tl_op</th>\n",
              "      <th>mo_sin_rcnt_rev_tl_op</th>\n",
              "      <th>mo_sin_rcnt_tl</th>\n",
              "      <th>mort_acc</th>\n",
              "      <th>mths_since_recent_bc</th>\n",
              "      <th>mths_since_recent_bc_dlq</th>\n",
              "      <th>mths_since_recent_inq</th>\n",
              "      <th>mths_since_recent_revol_delinq</th>\n",
              "      <th>num_accts_ever_120_pd</th>\n",
              "      <th>num_actv_bc_tl</th>\n",
              "      <th>num_actv_rev_tl</th>\n",
              "      <th>num_bc_sats</th>\n",
              "      <th>num_bc_tl</th>\n",
              "      <th>num_il_tl</th>\n",
              "      <th>num_op_rev_tl</th>\n",
              "      <th>num_rev_accts</th>\n",
              "      <th>num_rev_tl_bal_gt_0</th>\n",
              "      <th>num_sats</th>\n",
              "      <th>num_tl_120dpd_2m</th>\n",
              "      <th>num_tl_30dpd</th>\n",
              "      <th>num_tl_90g_dpd_24m</th>\n",
              "      <th>num_tl_op_past_12m</th>\n",
              "      <th>pct_tl_nvr_dlq</th>\n",
              "      <th>percent_bc_gt_75</th>\n",
              "      <th>pub_rec_bankruptcies</th>\n",
              "      <th>tax_liens</th>\n",
              "      <th>tot_hi_cred_lim</th>\n",
              "      <th>total_bal_ex_mort</th>\n",
              "      <th>total_bc_limit</th>\n",
              "      <th>total_il_high_credit_limit</th>\n",
              "    </tr>\n",
              "  </thead>\n",
              "  <tbody>\n",
              "    <tr>\n",
              "      <th>0</th>\n",
              "      <td>1077501</td>\n",
              "      <td>1296599</td>\n",
              "      <td>5000</td>\n",
              "      <td>5000</td>\n",
              "      <td>4975.0</td>\n",
              "      <td>36 months</td>\n",
              "      <td>10.65%</td>\n",
              "      <td>162.87</td>\n",
              "      <td>B</td>\n",
              "      <td>B2</td>\n",
              "      <td>NaN</td>\n",
              "      <td>10+ years</td>\n",
              "      <td>RENT</td>\n",
              "      <td>24000.0</td>\n",
              "      <td>Verified</td>\n",
              "      <td>Dec-11</td>\n",
              "      <td>Fully Paid</td>\n",
              "      <td>n</td>\n",
              "      <td>https://lendingclub.com/browse/loanDetail.acti...</td>\n",
              "      <td>Borrower added on 12/22/11 &gt; I need to upgra...</td>\n",
              "      <td>credit_card</td>\n",
              "      <td>Computer</td>\n",
              "      <td>860xx</td>\n",
              "      <td>AZ</td>\n",
              "      <td>27.65</td>\n",
              "      <td>0</td>\n",
              "      <td>Jan-85</td>\n",
              "      <td>1</td>\n",
              "      <td>NaN</td>\n",
              "      <td>NaN</td>\n",
              "      <td>3</td>\n",
              "      <td>0</td>\n",
              "      <td>13648</td>\n",
              "      <td>83.70%</td>\n",
              "      <td>9</td>\n",
              "      <td>f</td>\n",
              "      <td>0.00</td>\n",
              "      <td>0.00</td>\n",
              "      <td>5863.16</td>\n",
              "      <td>5833.84</td>\n",
              "      <td>5000.00</td>\n",
              "      <td>863.16</td>\n",
              "      <td>0.00</td>\n",
              "      <td>0.00</td>\n",
              "      <td>0.00</td>\n",
              "      <td>Jan-15</td>\n",
              "      <td>171.62</td>\n",
              "      <td>NaN</td>\n",
              "      <td>May-16</td>\n",
              "      <td>0.0</td>\n",
              "      <td>NaN</td>\n",
              "      <td>1</td>\n",
              "      <td>INDIVIDUAL</td>\n",
              "      <td>NaN</td>\n",
              "      <td>NaN</td>\n",
              "      <td>NaN</td>\n",
              "      <td>0</td>\n",
              "      <td>NaN</td>\n",
              "      <td>NaN</td>\n",
              "      <td>NaN</td>\n",
              "      <td>NaN</td>\n",
              "      <td>NaN</td>\n",
              "      <td>NaN</td>\n",
              "      <td>NaN</td>\n",
              "      <td>NaN</td>\n",
              "      <td>NaN</td>\n",
              "      <td>NaN</td>\n",
              "      <td>NaN</td>\n",
              "      <td>NaN</td>\n",
              "      <td>NaN</td>\n",
              "      <td>NaN</td>\n",
              "      <td>NaN</td>\n",
              "      <td>NaN</td>\n",
              "      <td>NaN</td>\n",
              "      <td>NaN</td>\n",
              "      <td>NaN</td>\n",
              "      <td>NaN</td>\n",
              "      <td>NaN</td>\n",
              "      <td>0.0</td>\n",
              "      <td>0</td>\n",
              "      <td>NaN</td>\n",
              "      <td>NaN</td>\n",
              "      <td>NaN</td>\n",
              "      <td>NaN</td>\n",
              "      <td>NaN</td>\n",
              "      <td>NaN</td>\n",
              "      <td>NaN</td>\n",
              "      <td>NaN</td>\n",
              "      <td>NaN</td>\n",
              "      <td>NaN</td>\n",
              "      <td>NaN</td>\n",
              "      <td>NaN</td>\n",
              "      <td>NaN</td>\n",
              "      <td>NaN</td>\n",
              "      <td>NaN</td>\n",
              "      <td>NaN</td>\n",
              "      <td>NaN</td>\n",
              "      <td>NaN</td>\n",
              "      <td>NaN</td>\n",
              "      <td>NaN</td>\n",
              "      <td>NaN</td>\n",
              "      <td>NaN</td>\n",
              "      <td>NaN</td>\n",
              "      <td>NaN</td>\n",
              "      <td>NaN</td>\n",
              "      <td>0.0</td>\n",
              "      <td>0.0</td>\n",
              "      <td>NaN</td>\n",
              "      <td>NaN</td>\n",
              "      <td>NaN</td>\n",
              "      <td>NaN</td>\n",
              "    </tr>\n",
              "    <tr>\n",
              "      <th>1</th>\n",
              "      <td>1077430</td>\n",
              "      <td>1314167</td>\n",
              "      <td>2500</td>\n",
              "      <td>2500</td>\n",
              "      <td>2500.0</td>\n",
              "      <td>60 months</td>\n",
              "      <td>15.27%</td>\n",
              "      <td>59.83</td>\n",
              "      <td>C</td>\n",
              "      <td>C4</td>\n",
              "      <td>Ryder</td>\n",
              "      <td>&lt; 1 year</td>\n",
              "      <td>RENT</td>\n",
              "      <td>30000.0</td>\n",
              "      <td>Source Verified</td>\n",
              "      <td>Dec-11</td>\n",
              "      <td>Charged Off</td>\n",
              "      <td>n</td>\n",
              "      <td>https://lendingclub.com/browse/loanDetail.acti...</td>\n",
              "      <td>Borrower added on 12/22/11 &gt; I plan to use t...</td>\n",
              "      <td>car</td>\n",
              "      <td>bike</td>\n",
              "      <td>309xx</td>\n",
              "      <td>GA</td>\n",
              "      <td>1.00</td>\n",
              "      <td>0</td>\n",
              "      <td>Apr-99</td>\n",
              "      <td>5</td>\n",
              "      <td>NaN</td>\n",
              "      <td>NaN</td>\n",
              "      <td>3</td>\n",
              "      <td>0</td>\n",
              "      <td>1687</td>\n",
              "      <td>9.40%</td>\n",
              "      <td>4</td>\n",
              "      <td>f</td>\n",
              "      <td>0.00</td>\n",
              "      <td>0.00</td>\n",
              "      <td>1008.71</td>\n",
              "      <td>1008.71</td>\n",
              "      <td>456.46</td>\n",
              "      <td>435.17</td>\n",
              "      <td>0.00</td>\n",
              "      <td>117.08</td>\n",
              "      <td>1.11</td>\n",
              "      <td>Apr-13</td>\n",
              "      <td>119.66</td>\n",
              "      <td>NaN</td>\n",
              "      <td>Sep-13</td>\n",
              "      <td>0.0</td>\n",
              "      <td>NaN</td>\n",
              "      <td>1</td>\n",
              "      <td>INDIVIDUAL</td>\n",
              "      <td>NaN</td>\n",
              "      <td>NaN</td>\n",
              "      <td>NaN</td>\n",
              "      <td>0</td>\n",
              "      <td>NaN</td>\n",
              "      <td>NaN</td>\n",
              "      <td>NaN</td>\n",
              "      <td>NaN</td>\n",
              "      <td>NaN</td>\n",
              "      <td>NaN</td>\n",
              "      <td>NaN</td>\n",
              "      <td>NaN</td>\n",
              "      <td>NaN</td>\n",
              "      <td>NaN</td>\n",
              "      <td>NaN</td>\n",
              "      <td>NaN</td>\n",
              "      <td>NaN</td>\n",
              "      <td>NaN</td>\n",
              "      <td>NaN</td>\n",
              "      <td>NaN</td>\n",
              "      <td>NaN</td>\n",
              "      <td>NaN</td>\n",
              "      <td>NaN</td>\n",
              "      <td>NaN</td>\n",
              "      <td>NaN</td>\n",
              "      <td>0.0</td>\n",
              "      <td>0</td>\n",
              "      <td>NaN</td>\n",
              "      <td>NaN</td>\n",
              "      <td>NaN</td>\n",
              "      <td>NaN</td>\n",
              "      <td>NaN</td>\n",
              "      <td>NaN</td>\n",
              "      <td>NaN</td>\n",
              "      <td>NaN</td>\n",
              "      <td>NaN</td>\n",
              "      <td>NaN</td>\n",
              "      <td>NaN</td>\n",
              "      <td>NaN</td>\n",
              "      <td>NaN</td>\n",
              "      <td>NaN</td>\n",
              "      <td>NaN</td>\n",
              "      <td>NaN</td>\n",
              "      <td>NaN</td>\n",
              "      <td>NaN</td>\n",
              "      <td>NaN</td>\n",
              "      <td>NaN</td>\n",
              "      <td>NaN</td>\n",
              "      <td>NaN</td>\n",
              "      <td>NaN</td>\n",
              "      <td>NaN</td>\n",
              "      <td>NaN</td>\n",
              "      <td>0.0</td>\n",
              "      <td>0.0</td>\n",
              "      <td>NaN</td>\n",
              "      <td>NaN</td>\n",
              "      <td>NaN</td>\n",
              "      <td>NaN</td>\n",
              "    </tr>\n",
              "    <tr>\n",
              "      <th>2</th>\n",
              "      <td>1077175</td>\n",
              "      <td>1313524</td>\n",
              "      <td>2400</td>\n",
              "      <td>2400</td>\n",
              "      <td>2400.0</td>\n",
              "      <td>36 months</td>\n",
              "      <td>15.96%</td>\n",
              "      <td>84.33</td>\n",
              "      <td>C</td>\n",
              "      <td>C5</td>\n",
              "      <td>NaN</td>\n",
              "      <td>10+ years</td>\n",
              "      <td>RENT</td>\n",
              "      <td>12252.0</td>\n",
              "      <td>Not Verified</td>\n",
              "      <td>Dec-11</td>\n",
              "      <td>Fully Paid</td>\n",
              "      <td>n</td>\n",
              "      <td>https://lendingclub.com/browse/loanDetail.acti...</td>\n",
              "      <td>NaN</td>\n",
              "      <td>small_business</td>\n",
              "      <td>real estate business</td>\n",
              "      <td>606xx</td>\n",
              "      <td>IL</td>\n",
              "      <td>8.72</td>\n",
              "      <td>0</td>\n",
              "      <td>Nov-01</td>\n",
              "      <td>2</td>\n",
              "      <td>NaN</td>\n",
              "      <td>NaN</td>\n",
              "      <td>2</td>\n",
              "      <td>0</td>\n",
              "      <td>2956</td>\n",
              "      <td>98.50%</td>\n",
              "      <td>10</td>\n",
              "      <td>f</td>\n",
              "      <td>0.00</td>\n",
              "      <td>0.00</td>\n",
              "      <td>3005.67</td>\n",
              "      <td>3005.67</td>\n",
              "      <td>2400.00</td>\n",
              "      <td>605.67</td>\n",
              "      <td>0.00</td>\n",
              "      <td>0.00</td>\n",
              "      <td>0.00</td>\n",
              "      <td>Jun-14</td>\n",
              "      <td>649.91</td>\n",
              "      <td>NaN</td>\n",
              "      <td>May-16</td>\n",
              "      <td>0.0</td>\n",
              "      <td>NaN</td>\n",
              "      <td>1</td>\n",
              "      <td>INDIVIDUAL</td>\n",
              "      <td>NaN</td>\n",
              "      <td>NaN</td>\n",
              "      <td>NaN</td>\n",
              "      <td>0</td>\n",
              "      <td>NaN</td>\n",
              "      <td>NaN</td>\n",
              "      <td>NaN</td>\n",
              "      <td>NaN</td>\n",
              "      <td>NaN</td>\n",
              "      <td>NaN</td>\n",
              "      <td>NaN</td>\n",
              "      <td>NaN</td>\n",
              "      <td>NaN</td>\n",
              "      <td>NaN</td>\n",
              "      <td>NaN</td>\n",
              "      <td>NaN</td>\n",
              "      <td>NaN</td>\n",
              "      <td>NaN</td>\n",
              "      <td>NaN</td>\n",
              "      <td>NaN</td>\n",
              "      <td>NaN</td>\n",
              "      <td>NaN</td>\n",
              "      <td>NaN</td>\n",
              "      <td>NaN</td>\n",
              "      <td>NaN</td>\n",
              "      <td>0.0</td>\n",
              "      <td>0</td>\n",
              "      <td>NaN</td>\n",
              "      <td>NaN</td>\n",
              "      <td>NaN</td>\n",
              "      <td>NaN</td>\n",
              "      <td>NaN</td>\n",
              "      <td>NaN</td>\n",
              "      <td>NaN</td>\n",
              "      <td>NaN</td>\n",
              "      <td>NaN</td>\n",
              "      <td>NaN</td>\n",
              "      <td>NaN</td>\n",
              "      <td>NaN</td>\n",
              "      <td>NaN</td>\n",
              "      <td>NaN</td>\n",
              "      <td>NaN</td>\n",
              "      <td>NaN</td>\n",
              "      <td>NaN</td>\n",
              "      <td>NaN</td>\n",
              "      <td>NaN</td>\n",
              "      <td>NaN</td>\n",
              "      <td>NaN</td>\n",
              "      <td>NaN</td>\n",
              "      <td>NaN</td>\n",
              "      <td>NaN</td>\n",
              "      <td>NaN</td>\n",
              "      <td>0.0</td>\n",
              "      <td>0.0</td>\n",
              "      <td>NaN</td>\n",
              "      <td>NaN</td>\n",
              "      <td>NaN</td>\n",
              "      <td>NaN</td>\n",
              "    </tr>\n",
              "    <tr>\n",
              "      <th>3</th>\n",
              "      <td>1076863</td>\n",
              "      <td>1277178</td>\n",
              "      <td>10000</td>\n",
              "      <td>10000</td>\n",
              "      <td>10000.0</td>\n",
              "      <td>36 months</td>\n",
              "      <td>13.49%</td>\n",
              "      <td>339.31</td>\n",
              "      <td>C</td>\n",
              "      <td>C1</td>\n",
              "      <td>AIR RESOURCES BOARD</td>\n",
              "      <td>10+ years</td>\n",
              "      <td>RENT</td>\n",
              "      <td>49200.0</td>\n",
              "      <td>Source Verified</td>\n",
              "      <td>Dec-11</td>\n",
              "      <td>Fully Paid</td>\n",
              "      <td>n</td>\n",
              "      <td>https://lendingclub.com/browse/loanDetail.acti...</td>\n",
              "      <td>Borrower added on 12/21/11 &gt; to pay for prop...</td>\n",
              "      <td>other</td>\n",
              "      <td>personel</td>\n",
              "      <td>917xx</td>\n",
              "      <td>CA</td>\n",
              "      <td>20.00</td>\n",
              "      <td>0</td>\n",
              "      <td>Feb-96</td>\n",
              "      <td>1</td>\n",
              "      <td>35.0</td>\n",
              "      <td>NaN</td>\n",
              "      <td>10</td>\n",
              "      <td>0</td>\n",
              "      <td>5598</td>\n",
              "      <td>21%</td>\n",
              "      <td>37</td>\n",
              "      <td>f</td>\n",
              "      <td>0.00</td>\n",
              "      <td>0.00</td>\n",
              "      <td>12231.89</td>\n",
              "      <td>12231.89</td>\n",
              "      <td>10000.00</td>\n",
              "      <td>2214.92</td>\n",
              "      <td>16.97</td>\n",
              "      <td>0.00</td>\n",
              "      <td>0.00</td>\n",
              "      <td>Jan-15</td>\n",
              "      <td>357.48</td>\n",
              "      <td>NaN</td>\n",
              "      <td>Apr-16</td>\n",
              "      <td>0.0</td>\n",
              "      <td>NaN</td>\n",
              "      <td>1</td>\n",
              "      <td>INDIVIDUAL</td>\n",
              "      <td>NaN</td>\n",
              "      <td>NaN</td>\n",
              "      <td>NaN</td>\n",
              "      <td>0</td>\n",
              "      <td>NaN</td>\n",
              "      <td>NaN</td>\n",
              "      <td>NaN</td>\n",
              "      <td>NaN</td>\n",
              "      <td>NaN</td>\n",
              "      <td>NaN</td>\n",
              "      <td>NaN</td>\n",
              "      <td>NaN</td>\n",
              "      <td>NaN</td>\n",
              "      <td>NaN</td>\n",
              "      <td>NaN</td>\n",
              "      <td>NaN</td>\n",
              "      <td>NaN</td>\n",
              "      <td>NaN</td>\n",
              "      <td>NaN</td>\n",
              "      <td>NaN</td>\n",
              "      <td>NaN</td>\n",
              "      <td>NaN</td>\n",
              "      <td>NaN</td>\n",
              "      <td>NaN</td>\n",
              "      <td>NaN</td>\n",
              "      <td>0.0</td>\n",
              "      <td>0</td>\n",
              "      <td>NaN</td>\n",
              "      <td>NaN</td>\n",
              "      <td>NaN</td>\n",
              "      <td>NaN</td>\n",
              "      <td>NaN</td>\n",
              "      <td>NaN</td>\n",
              "      <td>NaN</td>\n",
              "      <td>NaN</td>\n",
              "      <td>NaN</td>\n",
              "      <td>NaN</td>\n",
              "      <td>NaN</td>\n",
              "      <td>NaN</td>\n",
              "      <td>NaN</td>\n",
              "      <td>NaN</td>\n",
              "      <td>NaN</td>\n",
              "      <td>NaN</td>\n",
              "      <td>NaN</td>\n",
              "      <td>NaN</td>\n",
              "      <td>NaN</td>\n",
              "      <td>NaN</td>\n",
              "      <td>NaN</td>\n",
              "      <td>NaN</td>\n",
              "      <td>NaN</td>\n",
              "      <td>NaN</td>\n",
              "      <td>NaN</td>\n",
              "      <td>0.0</td>\n",
              "      <td>0.0</td>\n",
              "      <td>NaN</td>\n",
              "      <td>NaN</td>\n",
              "      <td>NaN</td>\n",
              "      <td>NaN</td>\n",
              "    </tr>\n",
              "    <tr>\n",
              "      <th>4</th>\n",
              "      <td>1075358</td>\n",
              "      <td>1311748</td>\n",
              "      <td>3000</td>\n",
              "      <td>3000</td>\n",
              "      <td>3000.0</td>\n",
              "      <td>60 months</td>\n",
              "      <td>12.69%</td>\n",
              "      <td>67.79</td>\n",
              "      <td>B</td>\n",
              "      <td>B5</td>\n",
              "      <td>University Medical Group</td>\n",
              "      <td>1 year</td>\n",
              "      <td>RENT</td>\n",
              "      <td>80000.0</td>\n",
              "      <td>Source Verified</td>\n",
              "      <td>Dec-11</td>\n",
              "      <td>Current</td>\n",
              "      <td>n</td>\n",
              "      <td>https://lendingclub.com/browse/loanDetail.acti...</td>\n",
              "      <td>Borrower added on 12/21/11 &gt; I plan on combi...</td>\n",
              "      <td>other</td>\n",
              "      <td>Personal</td>\n",
              "      <td>972xx</td>\n",
              "      <td>OR</td>\n",
              "      <td>17.94</td>\n",
              "      <td>0</td>\n",
              "      <td>Jan-96</td>\n",
              "      <td>0</td>\n",
              "      <td>38.0</td>\n",
              "      <td>NaN</td>\n",
              "      <td>15</td>\n",
              "      <td>0</td>\n",
              "      <td>27783</td>\n",
              "      <td>53.90%</td>\n",
              "      <td>38</td>\n",
              "      <td>f</td>\n",
              "      <td>524.06</td>\n",
              "      <td>524.06</td>\n",
              "      <td>3513.33</td>\n",
              "      <td>3513.33</td>\n",
              "      <td>2475.94</td>\n",
              "      <td>1037.39</td>\n",
              "      <td>0.00</td>\n",
              "      <td>0.00</td>\n",
              "      <td>0.00</td>\n",
              "      <td>May-16</td>\n",
              "      <td>67.79</td>\n",
              "      <td>Jun-16</td>\n",
              "      <td>May-16</td>\n",
              "      <td>0.0</td>\n",
              "      <td>NaN</td>\n",
              "      <td>1</td>\n",
              "      <td>INDIVIDUAL</td>\n",
              "      <td>NaN</td>\n",
              "      <td>NaN</td>\n",
              "      <td>NaN</td>\n",
              "      <td>0</td>\n",
              "      <td>NaN</td>\n",
              "      <td>NaN</td>\n",
              "      <td>NaN</td>\n",
              "      <td>NaN</td>\n",
              "      <td>NaN</td>\n",
              "      <td>NaN</td>\n",
              "      <td>NaN</td>\n",
              "      <td>NaN</td>\n",
              "      <td>NaN</td>\n",
              "      <td>NaN</td>\n",
              "      <td>NaN</td>\n",
              "      <td>NaN</td>\n",
              "      <td>NaN</td>\n",
              "      <td>NaN</td>\n",
              "      <td>NaN</td>\n",
              "      <td>NaN</td>\n",
              "      <td>NaN</td>\n",
              "      <td>NaN</td>\n",
              "      <td>NaN</td>\n",
              "      <td>NaN</td>\n",
              "      <td>NaN</td>\n",
              "      <td>0.0</td>\n",
              "      <td>0</td>\n",
              "      <td>NaN</td>\n",
              "      <td>NaN</td>\n",
              "      <td>NaN</td>\n",
              "      <td>NaN</td>\n",
              "      <td>NaN</td>\n",
              "      <td>NaN</td>\n",
              "      <td>NaN</td>\n",
              "      <td>NaN</td>\n",
              "      <td>NaN</td>\n",
              "      <td>NaN</td>\n",
              "      <td>NaN</td>\n",
              "      <td>NaN</td>\n",
              "      <td>NaN</td>\n",
              "      <td>NaN</td>\n",
              "      <td>NaN</td>\n",
              "      <td>NaN</td>\n",
              "      <td>NaN</td>\n",
              "      <td>NaN</td>\n",
              "      <td>NaN</td>\n",
              "      <td>NaN</td>\n",
              "      <td>NaN</td>\n",
              "      <td>NaN</td>\n",
              "      <td>NaN</td>\n",
              "      <td>NaN</td>\n",
              "      <td>NaN</td>\n",
              "      <td>0.0</td>\n",
              "      <td>0.0</td>\n",
              "      <td>NaN</td>\n",
              "      <td>NaN</td>\n",
              "      <td>NaN</td>\n",
              "      <td>NaN</td>\n",
              "    </tr>\n",
              "  </tbody>\n",
              "</table>\n",
              "</div>"
            ],
            "text/plain": [
              "        id  member_id  loan_amnt  funded_amnt  funded_amnt_inv        term int_rate  installment grade sub_grade                 emp_title emp_length home_ownership  annual_inc verification_status issue_d  loan_status pymnt_plan                                                url                                               desc         purpose                 title zip_code addr_state    dti  delinq_2yrs earliest_cr_line  inq_last_6mths  mths_since_last_delinq  mths_since_last_record  open_acc  pub_rec  revol_bal revol_util  total_acc initial_list_status  out_prncp  out_prncp_inv  total_pymnt  total_pymnt_inv  total_rec_prncp  total_rec_int  total_rec_late_fee  recoveries  collection_recovery_fee last_pymnt_d  last_pymnt_amnt next_pymnt_d last_credit_pull_d  collections_12_mths_ex_med  mths_since_last_major_derog  policy_code application_type  annual_inc_joint  dti_joint  verification_status_joint  acc_now_delinq  tot_coll_amt  tot_cur_bal  open_acc_6m  open_il_6m  open_il_12m  \\\n",
              "0  1077501    1296599       5000         5000           4975.0   36 months   10.65%       162.87     B        B2                       NaN  10+ years           RENT     24000.0            Verified  Dec-11   Fully Paid          n  https://lendingclub.com/browse/loanDetail.acti...    Borrower added on 12/22/11 > I need to upgra...     credit_card              Computer    860xx         AZ  27.65            0           Jan-85               1                     NaN                     NaN         3        0      13648     83.70%          9                   f       0.00           0.00      5863.16          5833.84          5000.00         863.16                0.00        0.00                     0.00       Jan-15           171.62          NaN             May-16                         0.0                          NaN            1       INDIVIDUAL               NaN        NaN                        NaN               0           NaN          NaN          NaN         NaN          NaN   \n",
              "1  1077430    1314167       2500         2500           2500.0   60 months   15.27%        59.83     C        C4                     Ryder   < 1 year           RENT     30000.0     Source Verified  Dec-11  Charged Off          n  https://lendingclub.com/browse/loanDetail.acti...    Borrower added on 12/22/11 > I plan to use t...             car                  bike    309xx         GA   1.00            0           Apr-99               5                     NaN                     NaN         3        0       1687      9.40%          4                   f       0.00           0.00      1008.71          1008.71           456.46         435.17                0.00      117.08                     1.11       Apr-13           119.66          NaN             Sep-13                         0.0                          NaN            1       INDIVIDUAL               NaN        NaN                        NaN               0           NaN          NaN          NaN         NaN          NaN   \n",
              "2  1077175    1313524       2400         2400           2400.0   36 months   15.96%        84.33     C        C5                       NaN  10+ years           RENT     12252.0        Not Verified  Dec-11   Fully Paid          n  https://lendingclub.com/browse/loanDetail.acti...                                                NaN  small_business  real estate business    606xx         IL   8.72            0           Nov-01               2                     NaN                     NaN         2        0       2956     98.50%         10                   f       0.00           0.00      3005.67          3005.67          2400.00         605.67                0.00        0.00                     0.00       Jun-14           649.91          NaN             May-16                         0.0                          NaN            1       INDIVIDUAL               NaN        NaN                        NaN               0           NaN          NaN          NaN         NaN          NaN   \n",
              "3  1076863    1277178      10000        10000          10000.0   36 months   13.49%       339.31     C        C1       AIR RESOURCES BOARD  10+ years           RENT     49200.0     Source Verified  Dec-11   Fully Paid          n  https://lendingclub.com/browse/loanDetail.acti...    Borrower added on 12/21/11 > to pay for prop...           other              personel    917xx         CA  20.00            0           Feb-96               1                    35.0                     NaN        10        0       5598        21%         37                   f       0.00           0.00     12231.89         12231.89         10000.00        2214.92               16.97        0.00                     0.00       Jan-15           357.48          NaN             Apr-16                         0.0                          NaN            1       INDIVIDUAL               NaN        NaN                        NaN               0           NaN          NaN          NaN         NaN          NaN   \n",
              "4  1075358    1311748       3000         3000           3000.0   60 months   12.69%        67.79     B        B5  University Medical Group     1 year           RENT     80000.0     Source Verified  Dec-11      Current          n  https://lendingclub.com/browse/loanDetail.acti...    Borrower added on 12/21/11 > I plan on combi...           other              Personal    972xx         OR  17.94            0           Jan-96               0                    38.0                     NaN        15        0      27783     53.90%         38                   f     524.06         524.06      3513.33          3513.33          2475.94        1037.39                0.00        0.00                     0.00       May-16            67.79       Jun-16             May-16                         0.0                          NaN            1       INDIVIDUAL               NaN        NaN                        NaN               0           NaN          NaN          NaN         NaN          NaN   \n",
              "\n",
              "   open_il_24m  mths_since_rcnt_il  total_bal_il  il_util  open_rv_12m  open_rv_24m  max_bal_bc  all_util  total_rev_hi_lim  inq_fi  total_cu_tl  inq_last_12m  acc_open_past_24mths  avg_cur_bal  bc_open_to_buy  bc_util  chargeoff_within_12_mths  delinq_amnt  mo_sin_old_il_acct  mo_sin_old_rev_tl_op  mo_sin_rcnt_rev_tl_op  mo_sin_rcnt_tl  mort_acc  mths_since_recent_bc  mths_since_recent_bc_dlq  mths_since_recent_inq  mths_since_recent_revol_delinq  num_accts_ever_120_pd  num_actv_bc_tl  num_actv_rev_tl  num_bc_sats  num_bc_tl  num_il_tl  num_op_rev_tl  num_rev_accts  num_rev_tl_bal_gt_0  num_sats  num_tl_120dpd_2m  num_tl_30dpd  num_tl_90g_dpd_24m  num_tl_op_past_12m  pct_tl_nvr_dlq  percent_bc_gt_75  pub_rec_bankruptcies  tax_liens  tot_hi_cred_lim  total_bal_ex_mort  total_bc_limit  total_il_high_credit_limit  \n",
              "0          NaN                 NaN           NaN      NaN          NaN          NaN         NaN       NaN               NaN     NaN          NaN           NaN                   NaN          NaN             NaN      NaN                       0.0            0                 NaN                   NaN                    NaN             NaN       NaN                   NaN                       NaN                    NaN                             NaN                    NaN             NaN              NaN          NaN        NaN        NaN            NaN            NaN                  NaN       NaN               NaN           NaN                 NaN                 NaN             NaN               NaN                   0.0        0.0              NaN                NaN             NaN                         NaN  \n",
              "1          NaN                 NaN           NaN      NaN          NaN          NaN         NaN       NaN               NaN     NaN          NaN           NaN                   NaN          NaN             NaN      NaN                       0.0            0                 NaN                   NaN                    NaN             NaN       NaN                   NaN                       NaN                    NaN                             NaN                    NaN             NaN              NaN          NaN        NaN        NaN            NaN            NaN                  NaN       NaN               NaN           NaN                 NaN                 NaN             NaN               NaN                   0.0        0.0              NaN                NaN             NaN                         NaN  \n",
              "2          NaN                 NaN           NaN      NaN          NaN          NaN         NaN       NaN               NaN     NaN          NaN           NaN                   NaN          NaN             NaN      NaN                       0.0            0                 NaN                   NaN                    NaN             NaN       NaN                   NaN                       NaN                    NaN                             NaN                    NaN             NaN              NaN          NaN        NaN        NaN            NaN            NaN                  NaN       NaN               NaN           NaN                 NaN                 NaN             NaN               NaN                   0.0        0.0              NaN                NaN             NaN                         NaN  \n",
              "3          NaN                 NaN           NaN      NaN          NaN          NaN         NaN       NaN               NaN     NaN          NaN           NaN                   NaN          NaN             NaN      NaN                       0.0            0                 NaN                   NaN                    NaN             NaN       NaN                   NaN                       NaN                    NaN                             NaN                    NaN             NaN              NaN          NaN        NaN        NaN            NaN            NaN                  NaN       NaN               NaN           NaN                 NaN                 NaN             NaN               NaN                   0.0        0.0              NaN                NaN             NaN                         NaN  \n",
              "4          NaN                 NaN           NaN      NaN          NaN          NaN         NaN       NaN               NaN     NaN          NaN           NaN                   NaN          NaN             NaN      NaN                       0.0            0                 NaN                   NaN                    NaN             NaN       NaN                   NaN                       NaN                    NaN                             NaN                    NaN             NaN              NaN          NaN        NaN        NaN            NaN            NaN                  NaN       NaN               NaN           NaN                 NaN                 NaN             NaN               NaN                   0.0        0.0              NaN                NaN             NaN                         NaN  "
            ]
          },
          "metadata": {
            "tags": []
          },
          "execution_count": 43
        }
      ]
    },
    {
      "cell_type": "markdown",
      "metadata": {
        "colab_type": "text",
        "id": "NVNRBf5dhfBr"
      },
      "source": [
        "### looking all the value"
      ]
    },
    {
      "cell_type": "code",
      "metadata": {
        "colab_type": "code",
        "id": "BINZyhZLhfBs",
        "colab": {
          "base_uri": "https://localhost:8080/",
          "height": 314
        },
        "outputId": "4084ccfe-5ebc-40fd-de4f-38299ffdd744"
      },
      "source": [
        "loan.describe()"
      ],
      "execution_count": 44,
      "outputs": [
        {
          "output_type": "execute_result",
          "data": {
            "text/html": [
              "<div>\n",
              "<style scoped>\n",
              "    .dataframe tbody tr th:only-of-type {\n",
              "        vertical-align: middle;\n",
              "    }\n",
              "\n",
              "    .dataframe tbody tr th {\n",
              "        vertical-align: top;\n",
              "    }\n",
              "\n",
              "    .dataframe thead th {\n",
              "        text-align: right;\n",
              "    }\n",
              "</style>\n",
              "<table border=\"1\" class=\"dataframe\">\n",
              "  <thead>\n",
              "    <tr style=\"text-align: right;\">\n",
              "      <th></th>\n",
              "      <th>id</th>\n",
              "      <th>member_id</th>\n",
              "      <th>loan_amnt</th>\n",
              "      <th>funded_amnt</th>\n",
              "      <th>funded_amnt_inv</th>\n",
              "      <th>installment</th>\n",
              "      <th>annual_inc</th>\n",
              "      <th>dti</th>\n",
              "      <th>delinq_2yrs</th>\n",
              "      <th>inq_last_6mths</th>\n",
              "      <th>mths_since_last_delinq</th>\n",
              "      <th>mths_since_last_record</th>\n",
              "      <th>open_acc</th>\n",
              "      <th>pub_rec</th>\n",
              "      <th>revol_bal</th>\n",
              "      <th>total_acc</th>\n",
              "      <th>out_prncp</th>\n",
              "      <th>out_prncp_inv</th>\n",
              "      <th>total_pymnt</th>\n",
              "      <th>total_pymnt_inv</th>\n",
              "      <th>total_rec_prncp</th>\n",
              "      <th>total_rec_int</th>\n",
              "      <th>total_rec_late_fee</th>\n",
              "      <th>recoveries</th>\n",
              "      <th>collection_recovery_fee</th>\n",
              "      <th>last_pymnt_amnt</th>\n",
              "      <th>collections_12_mths_ex_med</th>\n",
              "      <th>mths_since_last_major_derog</th>\n",
              "      <th>policy_code</th>\n",
              "      <th>annual_inc_joint</th>\n",
              "      <th>dti_joint</th>\n",
              "      <th>verification_status_joint</th>\n",
              "      <th>acc_now_delinq</th>\n",
              "      <th>tot_coll_amt</th>\n",
              "      <th>tot_cur_bal</th>\n",
              "      <th>open_acc_6m</th>\n",
              "      <th>open_il_6m</th>\n",
              "      <th>open_il_12m</th>\n",
              "      <th>open_il_24m</th>\n",
              "      <th>mths_since_rcnt_il</th>\n",
              "      <th>total_bal_il</th>\n",
              "      <th>il_util</th>\n",
              "      <th>open_rv_12m</th>\n",
              "      <th>open_rv_24m</th>\n",
              "      <th>max_bal_bc</th>\n",
              "      <th>all_util</th>\n",
              "      <th>total_rev_hi_lim</th>\n",
              "      <th>inq_fi</th>\n",
              "      <th>total_cu_tl</th>\n",
              "      <th>inq_last_12m</th>\n",
              "      <th>acc_open_past_24mths</th>\n",
              "      <th>avg_cur_bal</th>\n",
              "      <th>bc_open_to_buy</th>\n",
              "      <th>bc_util</th>\n",
              "      <th>chargeoff_within_12_mths</th>\n",
              "      <th>delinq_amnt</th>\n",
              "      <th>mo_sin_old_il_acct</th>\n",
              "      <th>mo_sin_old_rev_tl_op</th>\n",
              "      <th>mo_sin_rcnt_rev_tl_op</th>\n",
              "      <th>mo_sin_rcnt_tl</th>\n",
              "      <th>mort_acc</th>\n",
              "      <th>mths_since_recent_bc</th>\n",
              "      <th>mths_since_recent_bc_dlq</th>\n",
              "      <th>mths_since_recent_inq</th>\n",
              "      <th>mths_since_recent_revol_delinq</th>\n",
              "      <th>num_accts_ever_120_pd</th>\n",
              "      <th>num_actv_bc_tl</th>\n",
              "      <th>num_actv_rev_tl</th>\n",
              "      <th>num_bc_sats</th>\n",
              "      <th>num_bc_tl</th>\n",
              "      <th>num_il_tl</th>\n",
              "      <th>num_op_rev_tl</th>\n",
              "      <th>num_rev_accts</th>\n",
              "      <th>num_rev_tl_bal_gt_0</th>\n",
              "      <th>num_sats</th>\n",
              "      <th>num_tl_120dpd_2m</th>\n",
              "      <th>num_tl_30dpd</th>\n",
              "      <th>num_tl_90g_dpd_24m</th>\n",
              "      <th>num_tl_op_past_12m</th>\n",
              "      <th>pct_tl_nvr_dlq</th>\n",
              "      <th>percent_bc_gt_75</th>\n",
              "      <th>pub_rec_bankruptcies</th>\n",
              "      <th>tax_liens</th>\n",
              "      <th>tot_hi_cred_lim</th>\n",
              "      <th>total_bal_ex_mort</th>\n",
              "      <th>total_bc_limit</th>\n",
              "      <th>total_il_high_credit_limit</th>\n",
              "    </tr>\n",
              "  </thead>\n",
              "  <tbody>\n",
              "    <tr>\n",
              "      <th>count</th>\n",
              "      <td>3.97e+04</td>\n",
              "      <td>3.97e+04</td>\n",
              "      <td>39717.00</td>\n",
              "      <td>39717.00</td>\n",
              "      <td>39717.00</td>\n",
              "      <td>39717.00</td>\n",
              "      <td>3.97e+04</td>\n",
              "      <td>39717.00</td>\n",
              "      <td>39717.00</td>\n",
              "      <td>39717.00</td>\n",
              "      <td>14035.00</td>\n",
              "      <td>2786.00</td>\n",
              "      <td>39717.00</td>\n",
              "      <td>39717.00</td>\n",
              "      <td>39717.00</td>\n",
              "      <td>39717.00</td>\n",
              "      <td>39717.00</td>\n",
              "      <td>39717.00</td>\n",
              "      <td>39717.00</td>\n",
              "      <td>39717.00</td>\n",
              "      <td>39717.00</td>\n",
              "      <td>39717.00</td>\n",
              "      <td>39717.00</td>\n",
              "      <td>39717.00</td>\n",
              "      <td>39717.00</td>\n",
              "      <td>39717.00</td>\n",
              "      <td>39661.0</td>\n",
              "      <td>0.0</td>\n",
              "      <td>39717.0</td>\n",
              "      <td>0.0</td>\n",
              "      <td>0.0</td>\n",
              "      <td>0.0</td>\n",
              "      <td>39717.0</td>\n",
              "      <td>0.0</td>\n",
              "      <td>0.0</td>\n",
              "      <td>0.0</td>\n",
              "      <td>0.0</td>\n",
              "      <td>0.0</td>\n",
              "      <td>0.0</td>\n",
              "      <td>0.0</td>\n",
              "      <td>0.0</td>\n",
              "      <td>0.0</td>\n",
              "      <td>0.0</td>\n",
              "      <td>0.0</td>\n",
              "      <td>0.0</td>\n",
              "      <td>0.0</td>\n",
              "      <td>0.0</td>\n",
              "      <td>0.0</td>\n",
              "      <td>0.0</td>\n",
              "      <td>0.0</td>\n",
              "      <td>0.0</td>\n",
              "      <td>0.0</td>\n",
              "      <td>0.0</td>\n",
              "      <td>0.0</td>\n",
              "      <td>39661.0</td>\n",
              "      <td>39717.0</td>\n",
              "      <td>0.0</td>\n",
              "      <td>0.0</td>\n",
              "      <td>0.0</td>\n",
              "      <td>0.0</td>\n",
              "      <td>0.0</td>\n",
              "      <td>0.0</td>\n",
              "      <td>0.0</td>\n",
              "      <td>0.0</td>\n",
              "      <td>0.0</td>\n",
              "      <td>0.0</td>\n",
              "      <td>0.0</td>\n",
              "      <td>0.0</td>\n",
              "      <td>0.0</td>\n",
              "      <td>0.0</td>\n",
              "      <td>0.0</td>\n",
              "      <td>0.0</td>\n",
              "      <td>0.0</td>\n",
              "      <td>0.0</td>\n",
              "      <td>0.0</td>\n",
              "      <td>0.0</td>\n",
              "      <td>0.0</td>\n",
              "      <td>0.0</td>\n",
              "      <td>0.0</td>\n",
              "      <td>0.0</td>\n",
              "      <td>0.0</td>\n",
              "      <td>39020.00</td>\n",
              "      <td>39678.0</td>\n",
              "      <td>0.0</td>\n",
              "      <td>0.0</td>\n",
              "      <td>0.0</td>\n",
              "      <td>0.0</td>\n",
              "    </tr>\n",
              "    <tr>\n",
              "      <th>mean</th>\n",
              "      <td>6.83e+05</td>\n",
              "      <td>8.50e+05</td>\n",
              "      <td>11219.44</td>\n",
              "      <td>10947.71</td>\n",
              "      <td>10397.45</td>\n",
              "      <td>324.56</td>\n",
              "      <td>6.90e+04</td>\n",
              "      <td>13.32</td>\n",
              "      <td>0.15</td>\n",
              "      <td>0.87</td>\n",
              "      <td>35.90</td>\n",
              "      <td>69.70</td>\n",
              "      <td>9.29</td>\n",
              "      <td>0.06</td>\n",
              "      <td>13382.53</td>\n",
              "      <td>22.09</td>\n",
              "      <td>51.23</td>\n",
              "      <td>50.99</td>\n",
              "      <td>12153.60</td>\n",
              "      <td>11567.15</td>\n",
              "      <td>9793.35</td>\n",
              "      <td>2263.66</td>\n",
              "      <td>1.36</td>\n",
              "      <td>95.22</td>\n",
              "      <td>12.41</td>\n",
              "      <td>2678.83</td>\n",
              "      <td>0.0</td>\n",
              "      <td>NaN</td>\n",
              "      <td>1.0</td>\n",
              "      <td>NaN</td>\n",
              "      <td>NaN</td>\n",
              "      <td>NaN</td>\n",
              "      <td>0.0</td>\n",
              "      <td>NaN</td>\n",
              "      <td>NaN</td>\n",
              "      <td>NaN</td>\n",
              "      <td>NaN</td>\n",
              "      <td>NaN</td>\n",
              "      <td>NaN</td>\n",
              "      <td>NaN</td>\n",
              "      <td>NaN</td>\n",
              "      <td>NaN</td>\n",
              "      <td>NaN</td>\n",
              "      <td>NaN</td>\n",
              "      <td>NaN</td>\n",
              "      <td>NaN</td>\n",
              "      <td>NaN</td>\n",
              "      <td>NaN</td>\n",
              "      <td>NaN</td>\n",
              "      <td>NaN</td>\n",
              "      <td>NaN</td>\n",
              "      <td>NaN</td>\n",
              "      <td>NaN</td>\n",
              "      <td>NaN</td>\n",
              "      <td>0.0</td>\n",
              "      <td>0.0</td>\n",
              "      <td>NaN</td>\n",
              "      <td>NaN</td>\n",
              "      <td>NaN</td>\n",
              "      <td>NaN</td>\n",
              "      <td>NaN</td>\n",
              "      <td>NaN</td>\n",
              "      <td>NaN</td>\n",
              "      <td>NaN</td>\n",
              "      <td>NaN</td>\n",
              "      <td>NaN</td>\n",
              "      <td>NaN</td>\n",
              "      <td>NaN</td>\n",
              "      <td>NaN</td>\n",
              "      <td>NaN</td>\n",
              "      <td>NaN</td>\n",
              "      <td>NaN</td>\n",
              "      <td>NaN</td>\n",
              "      <td>NaN</td>\n",
              "      <td>NaN</td>\n",
              "      <td>NaN</td>\n",
              "      <td>NaN</td>\n",
              "      <td>NaN</td>\n",
              "      <td>NaN</td>\n",
              "      <td>NaN</td>\n",
              "      <td>NaN</td>\n",
              "      <td>0.04</td>\n",
              "      <td>0.0</td>\n",
              "      <td>NaN</td>\n",
              "      <td>NaN</td>\n",
              "      <td>NaN</td>\n",
              "      <td>NaN</td>\n",
              "    </tr>\n",
              "    <tr>\n",
              "      <th>std</th>\n",
              "      <td>2.11e+05</td>\n",
              "      <td>2.66e+05</td>\n",
              "      <td>7456.67</td>\n",
              "      <td>7187.24</td>\n",
              "      <td>7128.45</td>\n",
              "      <td>208.87</td>\n",
              "      <td>6.38e+04</td>\n",
              "      <td>6.68</td>\n",
              "      <td>0.49</td>\n",
              "      <td>1.07</td>\n",
              "      <td>22.02</td>\n",
              "      <td>43.82</td>\n",
              "      <td>4.40</td>\n",
              "      <td>0.24</td>\n",
              "      <td>15885.02</td>\n",
              "      <td>11.40</td>\n",
              "      <td>375.17</td>\n",
              "      <td>373.82</td>\n",
              "      <td>9042.04</td>\n",
              "      <td>8942.67</td>\n",
              "      <td>7065.52</td>\n",
              "      <td>2608.11</td>\n",
              "      <td>7.29</td>\n",
              "      <td>688.74</td>\n",
              "      <td>148.67</td>\n",
              "      <td>4447.14</td>\n",
              "      <td>0.0</td>\n",
              "      <td>NaN</td>\n",
              "      <td>0.0</td>\n",
              "      <td>NaN</td>\n",
              "      <td>NaN</td>\n",
              "      <td>NaN</td>\n",
              "      <td>0.0</td>\n",
              "      <td>NaN</td>\n",
              "      <td>NaN</td>\n",
              "      <td>NaN</td>\n",
              "      <td>NaN</td>\n",
              "      <td>NaN</td>\n",
              "      <td>NaN</td>\n",
              "      <td>NaN</td>\n",
              "      <td>NaN</td>\n",
              "      <td>NaN</td>\n",
              "      <td>NaN</td>\n",
              "      <td>NaN</td>\n",
              "      <td>NaN</td>\n",
              "      <td>NaN</td>\n",
              "      <td>NaN</td>\n",
              "      <td>NaN</td>\n",
              "      <td>NaN</td>\n",
              "      <td>NaN</td>\n",
              "      <td>NaN</td>\n",
              "      <td>NaN</td>\n",
              "      <td>NaN</td>\n",
              "      <td>NaN</td>\n",
              "      <td>0.0</td>\n",
              "      <td>0.0</td>\n",
              "      <td>NaN</td>\n",
              "      <td>NaN</td>\n",
              "      <td>NaN</td>\n",
              "      <td>NaN</td>\n",
              "      <td>NaN</td>\n",
              "      <td>NaN</td>\n",
              "      <td>NaN</td>\n",
              "      <td>NaN</td>\n",
              "      <td>NaN</td>\n",
              "      <td>NaN</td>\n",
              "      <td>NaN</td>\n",
              "      <td>NaN</td>\n",
              "      <td>NaN</td>\n",
              "      <td>NaN</td>\n",
              "      <td>NaN</td>\n",
              "      <td>NaN</td>\n",
              "      <td>NaN</td>\n",
              "      <td>NaN</td>\n",
              "      <td>NaN</td>\n",
              "      <td>NaN</td>\n",
              "      <td>NaN</td>\n",
              "      <td>NaN</td>\n",
              "      <td>NaN</td>\n",
              "      <td>NaN</td>\n",
              "      <td>NaN</td>\n",
              "      <td>0.20</td>\n",
              "      <td>0.0</td>\n",
              "      <td>NaN</td>\n",
              "      <td>NaN</td>\n",
              "      <td>NaN</td>\n",
              "      <td>NaN</td>\n",
              "    </tr>\n",
              "    <tr>\n",
              "      <th>min</th>\n",
              "      <td>5.47e+04</td>\n",
              "      <td>7.07e+04</td>\n",
              "      <td>500.00</td>\n",
              "      <td>500.00</td>\n",
              "      <td>0.00</td>\n",
              "      <td>15.69</td>\n",
              "      <td>4.00e+03</td>\n",
              "      <td>0.00</td>\n",
              "      <td>0.00</td>\n",
              "      <td>0.00</td>\n",
              "      <td>0.00</td>\n",
              "      <td>0.00</td>\n",
              "      <td>2.00</td>\n",
              "      <td>0.00</td>\n",
              "      <td>0.00</td>\n",
              "      <td>2.00</td>\n",
              "      <td>0.00</td>\n",
              "      <td>0.00</td>\n",
              "      <td>0.00</td>\n",
              "      <td>0.00</td>\n",
              "      <td>0.00</td>\n",
              "      <td>0.00</td>\n",
              "      <td>0.00</td>\n",
              "      <td>0.00</td>\n",
              "      <td>0.00</td>\n",
              "      <td>0.00</td>\n",
              "      <td>0.0</td>\n",
              "      <td>NaN</td>\n",
              "      <td>1.0</td>\n",
              "      <td>NaN</td>\n",
              "      <td>NaN</td>\n",
              "      <td>NaN</td>\n",
              "      <td>0.0</td>\n",
              "      <td>NaN</td>\n",
              "      <td>NaN</td>\n",
              "      <td>NaN</td>\n",
              "      <td>NaN</td>\n",
              "      <td>NaN</td>\n",
              "      <td>NaN</td>\n",
              "      <td>NaN</td>\n",
              "      <td>NaN</td>\n",
              "      <td>NaN</td>\n",
              "      <td>NaN</td>\n",
              "      <td>NaN</td>\n",
              "      <td>NaN</td>\n",
              "      <td>NaN</td>\n",
              "      <td>NaN</td>\n",
              "      <td>NaN</td>\n",
              "      <td>NaN</td>\n",
              "      <td>NaN</td>\n",
              "      <td>NaN</td>\n",
              "      <td>NaN</td>\n",
              "      <td>NaN</td>\n",
              "      <td>NaN</td>\n",
              "      <td>0.0</td>\n",
              "      <td>0.0</td>\n",
              "      <td>NaN</td>\n",
              "      <td>NaN</td>\n",
              "      <td>NaN</td>\n",
              "      <td>NaN</td>\n",
              "      <td>NaN</td>\n",
              "      <td>NaN</td>\n",
              "      <td>NaN</td>\n",
              "      <td>NaN</td>\n",
              "      <td>NaN</td>\n",
              "      <td>NaN</td>\n",
              "      <td>NaN</td>\n",
              "      <td>NaN</td>\n",
              "      <td>NaN</td>\n",
              "      <td>NaN</td>\n",
              "      <td>NaN</td>\n",
              "      <td>NaN</td>\n",
              "      <td>NaN</td>\n",
              "      <td>NaN</td>\n",
              "      <td>NaN</td>\n",
              "      <td>NaN</td>\n",
              "      <td>NaN</td>\n",
              "      <td>NaN</td>\n",
              "      <td>NaN</td>\n",
              "      <td>NaN</td>\n",
              "      <td>NaN</td>\n",
              "      <td>0.00</td>\n",
              "      <td>0.0</td>\n",
              "      <td>NaN</td>\n",
              "      <td>NaN</td>\n",
              "      <td>NaN</td>\n",
              "      <td>NaN</td>\n",
              "    </tr>\n",
              "    <tr>\n",
              "      <th>25%</th>\n",
              "      <td>5.16e+05</td>\n",
              "      <td>6.67e+05</td>\n",
              "      <td>5500.00</td>\n",
              "      <td>5400.00</td>\n",
              "      <td>5000.00</td>\n",
              "      <td>167.02</td>\n",
              "      <td>4.04e+04</td>\n",
              "      <td>8.17</td>\n",
              "      <td>0.00</td>\n",
              "      <td>0.00</td>\n",
              "      <td>18.00</td>\n",
              "      <td>22.00</td>\n",
              "      <td>6.00</td>\n",
              "      <td>0.00</td>\n",
              "      <td>3703.00</td>\n",
              "      <td>13.00</td>\n",
              "      <td>0.00</td>\n",
              "      <td>0.00</td>\n",
              "      <td>5576.93</td>\n",
              "      <td>5112.31</td>\n",
              "      <td>4600.00</td>\n",
              "      <td>662.18</td>\n",
              "      <td>0.00</td>\n",
              "      <td>0.00</td>\n",
              "      <td>0.00</td>\n",
              "      <td>218.68</td>\n",
              "      <td>0.0</td>\n",
              "      <td>NaN</td>\n",
              "      <td>1.0</td>\n",
              "      <td>NaN</td>\n",
              "      <td>NaN</td>\n",
              "      <td>NaN</td>\n",
              "      <td>0.0</td>\n",
              "      <td>NaN</td>\n",
              "      <td>NaN</td>\n",
              "      <td>NaN</td>\n",
              "      <td>NaN</td>\n",
              "      <td>NaN</td>\n",
              "      <td>NaN</td>\n",
              "      <td>NaN</td>\n",
              "      <td>NaN</td>\n",
              "      <td>NaN</td>\n",
              "      <td>NaN</td>\n",
              "      <td>NaN</td>\n",
              "      <td>NaN</td>\n",
              "      <td>NaN</td>\n",
              "      <td>NaN</td>\n",
              "      <td>NaN</td>\n",
              "      <td>NaN</td>\n",
              "      <td>NaN</td>\n",
              "      <td>NaN</td>\n",
              "      <td>NaN</td>\n",
              "      <td>NaN</td>\n",
              "      <td>NaN</td>\n",
              "      <td>0.0</td>\n",
              "      <td>0.0</td>\n",
              "      <td>NaN</td>\n",
              "      <td>NaN</td>\n",
              "      <td>NaN</td>\n",
              "      <td>NaN</td>\n",
              "      <td>NaN</td>\n",
              "      <td>NaN</td>\n",
              "      <td>NaN</td>\n",
              "      <td>NaN</td>\n",
              "      <td>NaN</td>\n",
              "      <td>NaN</td>\n",
              "      <td>NaN</td>\n",
              "      <td>NaN</td>\n",
              "      <td>NaN</td>\n",
              "      <td>NaN</td>\n",
              "      <td>NaN</td>\n",
              "      <td>NaN</td>\n",
              "      <td>NaN</td>\n",
              "      <td>NaN</td>\n",
              "      <td>NaN</td>\n",
              "      <td>NaN</td>\n",
              "      <td>NaN</td>\n",
              "      <td>NaN</td>\n",
              "      <td>NaN</td>\n",
              "      <td>NaN</td>\n",
              "      <td>NaN</td>\n",
              "      <td>0.00</td>\n",
              "      <td>0.0</td>\n",
              "      <td>NaN</td>\n",
              "      <td>NaN</td>\n",
              "      <td>NaN</td>\n",
              "      <td>NaN</td>\n",
              "    </tr>\n",
              "    <tr>\n",
              "      <th>50%</th>\n",
              "      <td>6.66e+05</td>\n",
              "      <td>8.51e+05</td>\n",
              "      <td>10000.00</td>\n",
              "      <td>9600.00</td>\n",
              "      <td>8975.00</td>\n",
              "      <td>280.22</td>\n",
              "      <td>5.90e+04</td>\n",
              "      <td>13.40</td>\n",
              "      <td>0.00</td>\n",
              "      <td>1.00</td>\n",
              "      <td>34.00</td>\n",
              "      <td>90.00</td>\n",
              "      <td>9.00</td>\n",
              "      <td>0.00</td>\n",
              "      <td>8850.00</td>\n",
              "      <td>20.00</td>\n",
              "      <td>0.00</td>\n",
              "      <td>0.00</td>\n",
              "      <td>9899.64</td>\n",
              "      <td>9287.15</td>\n",
              "      <td>8000.00</td>\n",
              "      <td>1348.91</td>\n",
              "      <td>0.00</td>\n",
              "      <td>0.00</td>\n",
              "      <td>0.00</td>\n",
              "      <td>546.14</td>\n",
              "      <td>0.0</td>\n",
              "      <td>NaN</td>\n",
              "      <td>1.0</td>\n",
              "      <td>NaN</td>\n",
              "      <td>NaN</td>\n",
              "      <td>NaN</td>\n",
              "      <td>0.0</td>\n",
              "      <td>NaN</td>\n",
              "      <td>NaN</td>\n",
              "      <td>NaN</td>\n",
              "      <td>NaN</td>\n",
              "      <td>NaN</td>\n",
              "      <td>NaN</td>\n",
              "      <td>NaN</td>\n",
              "      <td>NaN</td>\n",
              "      <td>NaN</td>\n",
              "      <td>NaN</td>\n",
              "      <td>NaN</td>\n",
              "      <td>NaN</td>\n",
              "      <td>NaN</td>\n",
              "      <td>NaN</td>\n",
              "      <td>NaN</td>\n",
              "      <td>NaN</td>\n",
              "      <td>NaN</td>\n",
              "      <td>NaN</td>\n",
              "      <td>NaN</td>\n",
              "      <td>NaN</td>\n",
              "      <td>NaN</td>\n",
              "      <td>0.0</td>\n",
              "      <td>0.0</td>\n",
              "      <td>NaN</td>\n",
              "      <td>NaN</td>\n",
              "      <td>NaN</td>\n",
              "      <td>NaN</td>\n",
              "      <td>NaN</td>\n",
              "      <td>NaN</td>\n",
              "      <td>NaN</td>\n",
              "      <td>NaN</td>\n",
              "      <td>NaN</td>\n",
              "      <td>NaN</td>\n",
              "      <td>NaN</td>\n",
              "      <td>NaN</td>\n",
              "      <td>NaN</td>\n",
              "      <td>NaN</td>\n",
              "      <td>NaN</td>\n",
              "      <td>NaN</td>\n",
              "      <td>NaN</td>\n",
              "      <td>NaN</td>\n",
              "      <td>NaN</td>\n",
              "      <td>NaN</td>\n",
              "      <td>NaN</td>\n",
              "      <td>NaN</td>\n",
              "      <td>NaN</td>\n",
              "      <td>NaN</td>\n",
              "      <td>NaN</td>\n",
              "      <td>0.00</td>\n",
              "      <td>0.0</td>\n",
              "      <td>NaN</td>\n",
              "      <td>NaN</td>\n",
              "      <td>NaN</td>\n",
              "      <td>NaN</td>\n",
              "    </tr>\n",
              "    <tr>\n",
              "      <th>75%</th>\n",
              "      <td>8.38e+05</td>\n",
              "      <td>1.05e+06</td>\n",
              "      <td>15000.00</td>\n",
              "      <td>15000.00</td>\n",
              "      <td>14400.00</td>\n",
              "      <td>430.78</td>\n",
              "      <td>8.23e+04</td>\n",
              "      <td>18.60</td>\n",
              "      <td>0.00</td>\n",
              "      <td>1.00</td>\n",
              "      <td>52.00</td>\n",
              "      <td>104.00</td>\n",
              "      <td>12.00</td>\n",
              "      <td>0.00</td>\n",
              "      <td>17058.00</td>\n",
              "      <td>29.00</td>\n",
              "      <td>0.00</td>\n",
              "      <td>0.00</td>\n",
              "      <td>16534.43</td>\n",
              "      <td>15798.81</td>\n",
              "      <td>13653.26</td>\n",
              "      <td>2833.40</td>\n",
              "      <td>0.00</td>\n",
              "      <td>0.00</td>\n",
              "      <td>0.00</td>\n",
              "      <td>3293.16</td>\n",
              "      <td>0.0</td>\n",
              "      <td>NaN</td>\n",
              "      <td>1.0</td>\n",
              "      <td>NaN</td>\n",
              "      <td>NaN</td>\n",
              "      <td>NaN</td>\n",
              "      <td>0.0</td>\n",
              "      <td>NaN</td>\n",
              "      <td>NaN</td>\n",
              "      <td>NaN</td>\n",
              "      <td>NaN</td>\n",
              "      <td>NaN</td>\n",
              "      <td>NaN</td>\n",
              "      <td>NaN</td>\n",
              "      <td>NaN</td>\n",
              "      <td>NaN</td>\n",
              "      <td>NaN</td>\n",
              "      <td>NaN</td>\n",
              "      <td>NaN</td>\n",
              "      <td>NaN</td>\n",
              "      <td>NaN</td>\n",
              "      <td>NaN</td>\n",
              "      <td>NaN</td>\n",
              "      <td>NaN</td>\n",
              "      <td>NaN</td>\n",
              "      <td>NaN</td>\n",
              "      <td>NaN</td>\n",
              "      <td>NaN</td>\n",
              "      <td>0.0</td>\n",
              "      <td>0.0</td>\n",
              "      <td>NaN</td>\n",
              "      <td>NaN</td>\n",
              "      <td>NaN</td>\n",
              "      <td>NaN</td>\n",
              "      <td>NaN</td>\n",
              "      <td>NaN</td>\n",
              "      <td>NaN</td>\n",
              "      <td>NaN</td>\n",
              "      <td>NaN</td>\n",
              "      <td>NaN</td>\n",
              "      <td>NaN</td>\n",
              "      <td>NaN</td>\n",
              "      <td>NaN</td>\n",
              "      <td>NaN</td>\n",
              "      <td>NaN</td>\n",
              "      <td>NaN</td>\n",
              "      <td>NaN</td>\n",
              "      <td>NaN</td>\n",
              "      <td>NaN</td>\n",
              "      <td>NaN</td>\n",
              "      <td>NaN</td>\n",
              "      <td>NaN</td>\n",
              "      <td>NaN</td>\n",
              "      <td>NaN</td>\n",
              "      <td>NaN</td>\n",
              "      <td>0.00</td>\n",
              "      <td>0.0</td>\n",
              "      <td>NaN</td>\n",
              "      <td>NaN</td>\n",
              "      <td>NaN</td>\n",
              "      <td>NaN</td>\n",
              "    </tr>\n",
              "    <tr>\n",
              "      <th>max</th>\n",
              "      <td>1.08e+06</td>\n",
              "      <td>1.31e+06</td>\n",
              "      <td>35000.00</td>\n",
              "      <td>35000.00</td>\n",
              "      <td>35000.00</td>\n",
              "      <td>1305.19</td>\n",
              "      <td>6.00e+06</td>\n",
              "      <td>29.99</td>\n",
              "      <td>11.00</td>\n",
              "      <td>8.00</td>\n",
              "      <td>120.00</td>\n",
              "      <td>129.00</td>\n",
              "      <td>44.00</td>\n",
              "      <td>4.00</td>\n",
              "      <td>149588.00</td>\n",
              "      <td>90.00</td>\n",
              "      <td>6311.47</td>\n",
              "      <td>6307.37</td>\n",
              "      <td>58563.68</td>\n",
              "      <td>58563.68</td>\n",
              "      <td>35000.02</td>\n",
              "      <td>23563.68</td>\n",
              "      <td>180.20</td>\n",
              "      <td>29623.35</td>\n",
              "      <td>7002.19</td>\n",
              "      <td>36115.20</td>\n",
              "      <td>0.0</td>\n",
              "      <td>NaN</td>\n",
              "      <td>1.0</td>\n",
              "      <td>NaN</td>\n",
              "      <td>NaN</td>\n",
              "      <td>NaN</td>\n",
              "      <td>0.0</td>\n",
              "      <td>NaN</td>\n",
              "      <td>NaN</td>\n",
              "      <td>NaN</td>\n",
              "      <td>NaN</td>\n",
              "      <td>NaN</td>\n",
              "      <td>NaN</td>\n",
              "      <td>NaN</td>\n",
              "      <td>NaN</td>\n",
              "      <td>NaN</td>\n",
              "      <td>NaN</td>\n",
              "      <td>NaN</td>\n",
              "      <td>NaN</td>\n",
              "      <td>NaN</td>\n",
              "      <td>NaN</td>\n",
              "      <td>NaN</td>\n",
              "      <td>NaN</td>\n",
              "      <td>NaN</td>\n",
              "      <td>NaN</td>\n",
              "      <td>NaN</td>\n",
              "      <td>NaN</td>\n",
              "      <td>NaN</td>\n",
              "      <td>0.0</td>\n",
              "      <td>0.0</td>\n",
              "      <td>NaN</td>\n",
              "      <td>NaN</td>\n",
              "      <td>NaN</td>\n",
              "      <td>NaN</td>\n",
              "      <td>NaN</td>\n",
              "      <td>NaN</td>\n",
              "      <td>NaN</td>\n",
              "      <td>NaN</td>\n",
              "      <td>NaN</td>\n",
              "      <td>NaN</td>\n",
              "      <td>NaN</td>\n",
              "      <td>NaN</td>\n",
              "      <td>NaN</td>\n",
              "      <td>NaN</td>\n",
              "      <td>NaN</td>\n",
              "      <td>NaN</td>\n",
              "      <td>NaN</td>\n",
              "      <td>NaN</td>\n",
              "      <td>NaN</td>\n",
              "      <td>NaN</td>\n",
              "      <td>NaN</td>\n",
              "      <td>NaN</td>\n",
              "      <td>NaN</td>\n",
              "      <td>NaN</td>\n",
              "      <td>NaN</td>\n",
              "      <td>2.00</td>\n",
              "      <td>0.0</td>\n",
              "      <td>NaN</td>\n",
              "      <td>NaN</td>\n",
              "      <td>NaN</td>\n",
              "      <td>NaN</td>\n",
              "    </tr>\n",
              "  </tbody>\n",
              "</table>\n",
              "</div>"
            ],
            "text/plain": [
              "             id  member_id  loan_amnt  funded_amnt  funded_amnt_inv  installment  annual_inc       dti  delinq_2yrs  inq_last_6mths  mths_since_last_delinq  mths_since_last_record  open_acc   pub_rec  revol_bal  total_acc  out_prncp  out_prncp_inv  total_pymnt  total_pymnt_inv  total_rec_prncp  total_rec_int  total_rec_late_fee  recoveries  collection_recovery_fee  last_pymnt_amnt  collections_12_mths_ex_med  mths_since_last_major_derog  policy_code  annual_inc_joint  dti_joint  verification_status_joint  acc_now_delinq  tot_coll_amt  tot_cur_bal  open_acc_6m  open_il_6m  open_il_12m  open_il_24m  mths_since_rcnt_il  total_bal_il  il_util  open_rv_12m  open_rv_24m  max_bal_bc  all_util  total_rev_hi_lim  inq_fi  total_cu_tl  inq_last_12m  acc_open_past_24mths  avg_cur_bal  bc_open_to_buy  bc_util  chargeoff_within_12_mths  delinq_amnt  mo_sin_old_il_acct  mo_sin_old_rev_tl_op  mo_sin_rcnt_rev_tl_op  mo_sin_rcnt_tl  mort_acc  mths_since_recent_bc  mths_since_recent_bc_dlq  \\\n",
              "count  3.97e+04   3.97e+04   39717.00     39717.00         39717.00     39717.00    3.97e+04  39717.00     39717.00        39717.00                14035.00                 2786.00  39717.00  39717.00   39717.00   39717.00   39717.00       39717.00     39717.00         39717.00         39717.00       39717.00            39717.00    39717.00                 39717.00         39717.00                     39661.0                          0.0      39717.0               0.0        0.0                        0.0         39717.0           0.0          0.0          0.0         0.0          0.0          0.0                 0.0           0.0      0.0          0.0          0.0         0.0       0.0               0.0     0.0          0.0           0.0                   0.0          0.0             0.0      0.0                   39661.0      39717.0                 0.0                   0.0                    0.0             0.0       0.0                   0.0                       0.0   \n",
              "mean   6.83e+05   8.50e+05   11219.44     10947.71         10397.45       324.56    6.90e+04     13.32         0.15            0.87                   35.90                   69.70      9.29      0.06   13382.53      22.09      51.23          50.99     12153.60         11567.15          9793.35        2263.66                1.36       95.22                    12.41          2678.83                         0.0                          NaN          1.0               NaN        NaN                        NaN             0.0           NaN          NaN          NaN         NaN          NaN          NaN                 NaN           NaN      NaN          NaN          NaN         NaN       NaN               NaN     NaN          NaN           NaN                   NaN          NaN             NaN      NaN                       0.0          0.0                 NaN                   NaN                    NaN             NaN       NaN                   NaN                       NaN   \n",
              "std    2.11e+05   2.66e+05    7456.67      7187.24          7128.45       208.87    6.38e+04      6.68         0.49            1.07                   22.02                   43.82      4.40      0.24   15885.02      11.40     375.17         373.82      9042.04          8942.67          7065.52        2608.11                7.29      688.74                   148.67          4447.14                         0.0                          NaN          0.0               NaN        NaN                        NaN             0.0           NaN          NaN          NaN         NaN          NaN          NaN                 NaN           NaN      NaN          NaN          NaN         NaN       NaN               NaN     NaN          NaN           NaN                   NaN          NaN             NaN      NaN                       0.0          0.0                 NaN                   NaN                    NaN             NaN       NaN                   NaN                       NaN   \n",
              "min    5.47e+04   7.07e+04     500.00       500.00             0.00        15.69    4.00e+03      0.00         0.00            0.00                    0.00                    0.00      2.00      0.00       0.00       2.00       0.00           0.00         0.00             0.00             0.00           0.00                0.00        0.00                     0.00             0.00                         0.0                          NaN          1.0               NaN        NaN                        NaN             0.0           NaN          NaN          NaN         NaN          NaN          NaN                 NaN           NaN      NaN          NaN          NaN         NaN       NaN               NaN     NaN          NaN           NaN                   NaN          NaN             NaN      NaN                       0.0          0.0                 NaN                   NaN                    NaN             NaN       NaN                   NaN                       NaN   \n",
              "25%    5.16e+05   6.67e+05    5500.00      5400.00          5000.00       167.02    4.04e+04      8.17         0.00            0.00                   18.00                   22.00      6.00      0.00    3703.00      13.00       0.00           0.00      5576.93          5112.31          4600.00         662.18                0.00        0.00                     0.00           218.68                         0.0                          NaN          1.0               NaN        NaN                        NaN             0.0           NaN          NaN          NaN         NaN          NaN          NaN                 NaN           NaN      NaN          NaN          NaN         NaN       NaN               NaN     NaN          NaN           NaN                   NaN          NaN             NaN      NaN                       0.0          0.0                 NaN                   NaN                    NaN             NaN       NaN                   NaN                       NaN   \n",
              "50%    6.66e+05   8.51e+05   10000.00      9600.00          8975.00       280.22    5.90e+04     13.40         0.00            1.00                   34.00                   90.00      9.00      0.00    8850.00      20.00       0.00           0.00      9899.64          9287.15          8000.00        1348.91                0.00        0.00                     0.00           546.14                         0.0                          NaN          1.0               NaN        NaN                        NaN             0.0           NaN          NaN          NaN         NaN          NaN          NaN                 NaN           NaN      NaN          NaN          NaN         NaN       NaN               NaN     NaN          NaN           NaN                   NaN          NaN             NaN      NaN                       0.0          0.0                 NaN                   NaN                    NaN             NaN       NaN                   NaN                       NaN   \n",
              "75%    8.38e+05   1.05e+06   15000.00     15000.00         14400.00       430.78    8.23e+04     18.60         0.00            1.00                   52.00                  104.00     12.00      0.00   17058.00      29.00       0.00           0.00     16534.43         15798.81         13653.26        2833.40                0.00        0.00                     0.00          3293.16                         0.0                          NaN          1.0               NaN        NaN                        NaN             0.0           NaN          NaN          NaN         NaN          NaN          NaN                 NaN           NaN      NaN          NaN          NaN         NaN       NaN               NaN     NaN          NaN           NaN                   NaN          NaN             NaN      NaN                       0.0          0.0                 NaN                   NaN                    NaN             NaN       NaN                   NaN                       NaN   \n",
              "max    1.08e+06   1.31e+06   35000.00     35000.00         35000.00      1305.19    6.00e+06     29.99        11.00            8.00                  120.00                  129.00     44.00      4.00  149588.00      90.00    6311.47        6307.37     58563.68         58563.68         35000.02       23563.68              180.20    29623.35                  7002.19         36115.20                         0.0                          NaN          1.0               NaN        NaN                        NaN             0.0           NaN          NaN          NaN         NaN          NaN          NaN                 NaN           NaN      NaN          NaN          NaN         NaN       NaN               NaN     NaN          NaN           NaN                   NaN          NaN             NaN      NaN                       0.0          0.0                 NaN                   NaN                    NaN             NaN       NaN                   NaN                       NaN   \n",
              "\n",
              "       mths_since_recent_inq  mths_since_recent_revol_delinq  num_accts_ever_120_pd  num_actv_bc_tl  num_actv_rev_tl  num_bc_sats  num_bc_tl  num_il_tl  num_op_rev_tl  num_rev_accts  num_rev_tl_bal_gt_0  num_sats  num_tl_120dpd_2m  num_tl_30dpd  num_tl_90g_dpd_24m  num_tl_op_past_12m  pct_tl_nvr_dlq  percent_bc_gt_75  pub_rec_bankruptcies  tax_liens  tot_hi_cred_lim  total_bal_ex_mort  total_bc_limit  total_il_high_credit_limit  \n",
              "count                    0.0                             0.0                    0.0             0.0              0.0          0.0        0.0        0.0            0.0            0.0                  0.0       0.0               0.0           0.0                 0.0                 0.0             0.0               0.0              39020.00    39678.0              0.0                0.0             0.0                         0.0  \n",
              "mean                     NaN                             NaN                    NaN             NaN              NaN          NaN        NaN        NaN            NaN            NaN                  NaN       NaN               NaN           NaN                 NaN                 NaN             NaN               NaN                  0.04        0.0              NaN                NaN             NaN                         NaN  \n",
              "std                      NaN                             NaN                    NaN             NaN              NaN          NaN        NaN        NaN            NaN            NaN                  NaN       NaN               NaN           NaN                 NaN                 NaN             NaN               NaN                  0.20        0.0              NaN                NaN             NaN                         NaN  \n",
              "min                      NaN                             NaN                    NaN             NaN              NaN          NaN        NaN        NaN            NaN            NaN                  NaN       NaN               NaN           NaN                 NaN                 NaN             NaN               NaN                  0.00        0.0              NaN                NaN             NaN                         NaN  \n",
              "25%                      NaN                             NaN                    NaN             NaN              NaN          NaN        NaN        NaN            NaN            NaN                  NaN       NaN               NaN           NaN                 NaN                 NaN             NaN               NaN                  0.00        0.0              NaN                NaN             NaN                         NaN  \n",
              "50%                      NaN                             NaN                    NaN             NaN              NaN          NaN        NaN        NaN            NaN            NaN                  NaN       NaN               NaN           NaN                 NaN                 NaN             NaN               NaN                  0.00        0.0              NaN                NaN             NaN                         NaN  \n",
              "75%                      NaN                             NaN                    NaN             NaN              NaN          NaN        NaN        NaN            NaN            NaN                  NaN       NaN               NaN           NaN                 NaN                 NaN             NaN               NaN                  0.00        0.0              NaN                NaN             NaN                         NaN  \n",
              "max                      NaN                             NaN                    NaN             NaN              NaN          NaN        NaN        NaN            NaN            NaN                  NaN       NaN               NaN           NaN                 NaN                 NaN             NaN               NaN                  2.00        0.0              NaN                NaN             NaN                         NaN  "
            ]
          },
          "metadata": {
            "tags": []
          },
          "execution_count": 44
        }
      ]
    },
    {
      "cell_type": "markdown",
      "metadata": {
        "colab_type": "text",
        "id": "x0wFzYswhfBx"
      },
      "source": [
        "### we are calculating percentege of missing value in loan dataframe"
      ]
    },
    {
      "cell_type": "code",
      "metadata": {
        "colab_type": "code",
        "id": "rVRdUywRhfBy",
        "colab": {
          "base_uri": "https://localhost:8080/",
          "height": 1000
        },
        "outputId": "d87bca96-4cbd-45ef-92dd-f8099e55a766"
      },
      "source": [
        "round(loan.isnull().sum()/len(loan)*100,2)"
      ],
      "execution_count": 45,
      "outputs": [
        {
          "output_type": "execute_result",
          "data": {
            "text/plain": [
              "id                                  0.00\n",
              "member_id                           0.00\n",
              "loan_amnt                           0.00\n",
              "funded_amnt                         0.00\n",
              "funded_amnt_inv                     0.00\n",
              "term                                0.00\n",
              "int_rate                            0.00\n",
              "installment                         0.00\n",
              "grade                               0.00\n",
              "sub_grade                           0.00\n",
              "emp_title                           6.19\n",
              "emp_length                          2.71\n",
              "home_ownership                      0.00\n",
              "annual_inc                          0.00\n",
              "verification_status                 0.00\n",
              "issue_d                             0.00\n",
              "loan_status                         0.00\n",
              "pymnt_plan                          0.00\n",
              "url                                 0.00\n",
              "desc                               32.58\n",
              "purpose                             0.00\n",
              "title                               0.03\n",
              "zip_code                            0.00\n",
              "addr_state                          0.00\n",
              "dti                                 0.00\n",
              "delinq_2yrs                         0.00\n",
              "earliest_cr_line                    0.00\n",
              "inq_last_6mths                      0.00\n",
              "mths_since_last_delinq             64.66\n",
              "mths_since_last_record             92.99\n",
              "open_acc                            0.00\n",
              "pub_rec                             0.00\n",
              "revol_bal                           0.00\n",
              "revol_util                          0.13\n",
              "total_acc                           0.00\n",
              "initial_list_status                 0.00\n",
              "out_prncp                           0.00\n",
              "out_prncp_inv                       0.00\n",
              "total_pymnt                         0.00\n",
              "total_pymnt_inv                     0.00\n",
              "total_rec_prncp                     0.00\n",
              "total_rec_int                       0.00\n",
              "total_rec_late_fee                  0.00\n",
              "recoveries                          0.00\n",
              "collection_recovery_fee             0.00\n",
              "last_pymnt_d                        0.18\n",
              "last_pymnt_amnt                     0.00\n",
              "next_pymnt_d                       97.13\n",
              "last_credit_pull_d                  0.01\n",
              "collections_12_mths_ex_med          0.14\n",
              "mths_since_last_major_derog       100.00\n",
              "policy_code                         0.00\n",
              "application_type                    0.00\n",
              "annual_inc_joint                  100.00\n",
              "dti_joint                         100.00\n",
              "verification_status_joint         100.00\n",
              "acc_now_delinq                      0.00\n",
              "tot_coll_amt                      100.00\n",
              "tot_cur_bal                       100.00\n",
              "open_acc_6m                       100.00\n",
              "open_il_6m                        100.00\n",
              "open_il_12m                       100.00\n",
              "open_il_24m                       100.00\n",
              "mths_since_rcnt_il                100.00\n",
              "total_bal_il                      100.00\n",
              "il_util                           100.00\n",
              "open_rv_12m                       100.00\n",
              "open_rv_24m                       100.00\n",
              "max_bal_bc                        100.00\n",
              "all_util                          100.00\n",
              "total_rev_hi_lim                  100.00\n",
              "inq_fi                            100.00\n",
              "total_cu_tl                       100.00\n",
              "inq_last_12m                      100.00\n",
              "acc_open_past_24mths              100.00\n",
              "avg_cur_bal                       100.00\n",
              "bc_open_to_buy                    100.00\n",
              "bc_util                           100.00\n",
              "chargeoff_within_12_mths            0.14\n",
              "delinq_amnt                         0.00\n",
              "mo_sin_old_il_acct                100.00\n",
              "mo_sin_old_rev_tl_op              100.00\n",
              "mo_sin_rcnt_rev_tl_op             100.00\n",
              "mo_sin_rcnt_tl                    100.00\n",
              "mort_acc                          100.00\n",
              "mths_since_recent_bc              100.00\n",
              "mths_since_recent_bc_dlq          100.00\n",
              "mths_since_recent_inq             100.00\n",
              "mths_since_recent_revol_delinq    100.00\n",
              "num_accts_ever_120_pd             100.00\n",
              "num_actv_bc_tl                    100.00\n",
              "num_actv_rev_tl                   100.00\n",
              "num_bc_sats                       100.00\n",
              "num_bc_tl                         100.00\n",
              "num_il_tl                         100.00\n",
              "num_op_rev_tl                     100.00\n",
              "num_rev_accts                     100.00\n",
              "num_rev_tl_bal_gt_0               100.00\n",
              "num_sats                          100.00\n",
              "num_tl_120dpd_2m                  100.00\n",
              "num_tl_30dpd                      100.00\n",
              "num_tl_90g_dpd_24m                100.00\n",
              "num_tl_op_past_12m                100.00\n",
              "pct_tl_nvr_dlq                    100.00\n",
              "percent_bc_gt_75                  100.00\n",
              "pub_rec_bankruptcies                1.75\n",
              "tax_liens                           0.10\n",
              "tot_hi_cred_lim                   100.00\n",
              "total_bal_ex_mort                 100.00\n",
              "total_bc_limit                    100.00\n",
              "total_il_high_credit_limit        100.00\n",
              "dtype: float64"
            ]
          },
          "metadata": {
            "tags": []
          },
          "execution_count": 45
        }
      ]
    },
    {
      "cell_type": "markdown",
      "metadata": {
        "colab_type": "text",
        "id": "K-75CDVlhfB5"
      },
      "source": [
        "### drop all the value having more than 50% missing value"
      ]
    },
    {
      "cell_type": "code",
      "metadata": {
        "colab_type": "code",
        "id": "jMd-KgomhfB6",
        "colab": {
          "base_uri": "https://localhost:8080/",
          "height": 1000
        },
        "outputId": "f0078eec-a80b-441a-e655-7a12397fa248"
      },
      "source": [
        "missing = round(100*(loan.isnull().sum()/len(loan.id)), 2)\n",
        "missing.loc[missing > 0]"
      ],
      "execution_count": 46,
      "outputs": [
        {
          "output_type": "execute_result",
          "data": {
            "text/plain": [
              "emp_title                           6.19\n",
              "emp_length                          2.71\n",
              "desc                               32.58\n",
              "title                               0.03\n",
              "mths_since_last_delinq             64.66\n",
              "mths_since_last_record             92.99\n",
              "revol_util                          0.13\n",
              "last_pymnt_d                        0.18\n",
              "next_pymnt_d                       97.13\n",
              "last_credit_pull_d                  0.01\n",
              "collections_12_mths_ex_med          0.14\n",
              "mths_since_last_major_derog       100.00\n",
              "annual_inc_joint                  100.00\n",
              "dti_joint                         100.00\n",
              "verification_status_joint         100.00\n",
              "tot_coll_amt                      100.00\n",
              "tot_cur_bal                       100.00\n",
              "open_acc_6m                       100.00\n",
              "open_il_6m                        100.00\n",
              "open_il_12m                       100.00\n",
              "open_il_24m                       100.00\n",
              "mths_since_rcnt_il                100.00\n",
              "total_bal_il                      100.00\n",
              "il_util                           100.00\n",
              "open_rv_12m                       100.00\n",
              "open_rv_24m                       100.00\n",
              "max_bal_bc                        100.00\n",
              "all_util                          100.00\n",
              "total_rev_hi_lim                  100.00\n",
              "inq_fi                            100.00\n",
              "total_cu_tl                       100.00\n",
              "inq_last_12m                      100.00\n",
              "acc_open_past_24mths              100.00\n",
              "avg_cur_bal                       100.00\n",
              "bc_open_to_buy                    100.00\n",
              "bc_util                           100.00\n",
              "chargeoff_within_12_mths            0.14\n",
              "mo_sin_old_il_acct                100.00\n",
              "mo_sin_old_rev_tl_op              100.00\n",
              "mo_sin_rcnt_rev_tl_op             100.00\n",
              "mo_sin_rcnt_tl                    100.00\n",
              "mort_acc                          100.00\n",
              "mths_since_recent_bc              100.00\n",
              "mths_since_recent_bc_dlq          100.00\n",
              "mths_since_recent_inq             100.00\n",
              "mths_since_recent_revol_delinq    100.00\n",
              "num_accts_ever_120_pd             100.00\n",
              "num_actv_bc_tl                    100.00\n",
              "num_actv_rev_tl                   100.00\n",
              "num_bc_sats                       100.00\n",
              "num_bc_tl                         100.00\n",
              "num_il_tl                         100.00\n",
              "num_op_rev_tl                     100.00\n",
              "num_rev_accts                     100.00\n",
              "num_rev_tl_bal_gt_0               100.00\n",
              "num_sats                          100.00\n",
              "num_tl_120dpd_2m                  100.00\n",
              "num_tl_30dpd                      100.00\n",
              "num_tl_90g_dpd_24m                100.00\n",
              "num_tl_op_past_12m                100.00\n",
              "pct_tl_nvr_dlq                    100.00\n",
              "percent_bc_gt_75                  100.00\n",
              "pub_rec_bankruptcies                1.75\n",
              "tax_liens                           0.10\n",
              "tot_hi_cred_lim                   100.00\n",
              "total_bal_ex_mort                 100.00\n",
              "total_bc_limit                    100.00\n",
              "total_il_high_credit_limit        100.00\n",
              "dtype: float64"
            ]
          },
          "metadata": {
            "tags": []
          },
          "execution_count": 46
        }
      ]
    },
    {
      "cell_type": "code",
      "metadata": {
        "colab_type": "code",
        "id": "0vcxboWHhfCB",
        "colab": {
          "base_uri": "https://localhost:8080/",
          "height": 55
        },
        "outputId": "4930ae0b-ec60-4bc4-c386-6e25d8bd4384"
      },
      "source": [
        "# loan=loan.dropna(axis=1,how='all')\n",
        "missing_values= list(missing[missing>=50].index)\n",
        "print(missing_values)"
      ],
      "execution_count": 47,
      "outputs": [
        {
          "output_type": "stream",
          "text": [
            "['mths_since_last_delinq', 'mths_since_last_record', 'next_pymnt_d', 'mths_since_last_major_derog', 'annual_inc_joint', 'dti_joint', 'verification_status_joint', 'tot_coll_amt', 'tot_cur_bal', 'open_acc_6m', 'open_il_6m', 'open_il_12m', 'open_il_24m', 'mths_since_rcnt_il', 'total_bal_il', 'il_util', 'open_rv_12m', 'open_rv_24m', 'max_bal_bc', 'all_util', 'total_rev_hi_lim', 'inq_fi', 'total_cu_tl', 'inq_last_12m', 'acc_open_past_24mths', 'avg_cur_bal', 'bc_open_to_buy', 'bc_util', 'mo_sin_old_il_acct', 'mo_sin_old_rev_tl_op', 'mo_sin_rcnt_rev_tl_op', 'mo_sin_rcnt_tl', 'mort_acc', 'mths_since_recent_bc', 'mths_since_recent_bc_dlq', 'mths_since_recent_inq', 'mths_since_recent_revol_delinq', 'num_accts_ever_120_pd', 'num_actv_bc_tl', 'num_actv_rev_tl', 'num_bc_sats', 'num_bc_tl', 'num_il_tl', 'num_op_rev_tl', 'num_rev_accts', 'num_rev_tl_bal_gt_0', 'num_sats', 'num_tl_120dpd_2m', 'num_tl_30dpd', 'num_tl_90g_dpd_24m', 'num_tl_op_past_12m', 'pct_tl_nvr_dlq', 'percent_bc_gt_75', 'tot_hi_cred_lim', 'total_bal_ex_mort', 'total_bc_limit', 'total_il_high_credit_limit']\n"
          ],
          "name": "stdout"
        }
      ]
    },
    {
      "cell_type": "code",
      "metadata": {
        "colab_type": "code",
        "id": "tw-XWgZhhfCF",
        "colab": {}
      },
      "source": [
        "loan = loan.drop(missing_values,axis=1)"
      ],
      "execution_count": 48,
      "outputs": []
    },
    {
      "cell_type": "code",
      "metadata": {
        "colab_type": "code",
        "id": "hth2xA5WhfCJ",
        "colab": {
          "base_uri": "https://localhost:8080/",
          "height": 35
        },
        "outputId": "be844661-454c-4822-8c34-5ccdd2cf1952"
      },
      "source": [
        "loan.shape"
      ],
      "execution_count": 49,
      "outputs": [
        {
          "output_type": "execute_result",
          "data": {
            "text/plain": [
              "(39717, 54)"
            ]
          },
          "metadata": {
            "tags": []
          },
          "execution_count": 49
        }
      ]
    },
    {
      "cell_type": "code",
      "metadata": {
        "colab_type": "code",
        "id": "c8MbWR04hfCO",
        "colab": {
          "base_uri": "https://localhost:8080/",
          "height": 971
        },
        "outputId": "8de9f726-d2fb-4d6c-b830-a68da8879e05"
      },
      "source": [
        "round(loan.isnull().sum()/len(loan)*100,2)"
      ],
      "execution_count": 50,
      "outputs": [
        {
          "output_type": "execute_result",
          "data": {
            "text/plain": [
              "id                             0.00\n",
              "member_id                      0.00\n",
              "loan_amnt                      0.00\n",
              "funded_amnt                    0.00\n",
              "funded_amnt_inv                0.00\n",
              "term                           0.00\n",
              "int_rate                       0.00\n",
              "installment                    0.00\n",
              "grade                          0.00\n",
              "sub_grade                      0.00\n",
              "emp_title                      6.19\n",
              "emp_length                     2.71\n",
              "home_ownership                 0.00\n",
              "annual_inc                     0.00\n",
              "verification_status            0.00\n",
              "issue_d                        0.00\n",
              "loan_status                    0.00\n",
              "pymnt_plan                     0.00\n",
              "url                            0.00\n",
              "desc                          32.58\n",
              "purpose                        0.00\n",
              "title                          0.03\n",
              "zip_code                       0.00\n",
              "addr_state                     0.00\n",
              "dti                            0.00\n",
              "delinq_2yrs                    0.00\n",
              "earliest_cr_line               0.00\n",
              "inq_last_6mths                 0.00\n",
              "open_acc                       0.00\n",
              "pub_rec                        0.00\n",
              "revol_bal                      0.00\n",
              "revol_util                     0.13\n",
              "total_acc                      0.00\n",
              "initial_list_status            0.00\n",
              "out_prncp                      0.00\n",
              "out_prncp_inv                  0.00\n",
              "total_pymnt                    0.00\n",
              "total_pymnt_inv                0.00\n",
              "total_rec_prncp                0.00\n",
              "total_rec_int                  0.00\n",
              "total_rec_late_fee             0.00\n",
              "recoveries                     0.00\n",
              "collection_recovery_fee        0.00\n",
              "last_pymnt_d                   0.18\n",
              "last_pymnt_amnt                0.00\n",
              "last_credit_pull_d             0.01\n",
              "collections_12_mths_ex_med     0.14\n",
              "policy_code                    0.00\n",
              "application_type               0.00\n",
              "acc_now_delinq                 0.00\n",
              "chargeoff_within_12_mths       0.14\n",
              "delinq_amnt                    0.00\n",
              "pub_rec_bankruptcies           1.75\n",
              "tax_liens                      0.10\n",
              "dtype: float64"
            ]
          },
          "metadata": {
            "tags": []
          },
          "execution_count": 50
        }
      ]
    },
    {
      "cell_type": "markdown",
      "metadata": {
        "colab_type": "text",
        "id": "d0XtCXxzhfCS"
      },
      "source": [
        "### now we drop some unnecessary column, which will not help us in analysis"
      ]
    },
    {
      "cell_type": "code",
      "metadata": {
        "colab_type": "code",
        "id": "GshIFqd3hfCT",
        "colab": {}
      },
      "source": [
        "loan=loan.drop(['id','member_id','inq_last_6mths',\n",
        "                'url','desc','title','zip_code','addr_state',\n",
        "               'tax_liens','application_type','policy_code','collections_12_mths_ex_med',\n",
        "               'last_credit_pull_d','initial_list_status','pymnt_plan','acc_now_delinq','delinq_amnt',\n",
        "               'chargeoff_within_12_mths'],axis=1)"
      ],
      "execution_count": 51,
      "outputs": []
    },
    {
      "cell_type": "code",
      "metadata": {
        "colab_type": "code",
        "id": "Bjn9iv3nhfCY",
        "colab": {
          "base_uri": "https://localhost:8080/",
          "height": 35
        },
        "outputId": "fb6953a1-d5e9-457c-dbc8-f09b9be1f02f"
      },
      "source": [
        "loan.shape"
      ],
      "execution_count": 52,
      "outputs": [
        {
          "output_type": "execute_result",
          "data": {
            "text/plain": [
              "(39717, 36)"
            ]
          },
          "metadata": {
            "tags": []
          },
          "execution_count": 52
        }
      ]
    },
    {
      "cell_type": "code",
      "metadata": {
        "colab_type": "code",
        "id": "YZcMdkP-hfCc",
        "colab": {
          "base_uri": "https://localhost:8080/",
          "height": 659
        },
        "outputId": "bcb3110f-7c0c-4b45-be1e-f12ba18c457c"
      },
      "source": [
        "round(loan.isnull().sum()/len(loan)*100,2)"
      ],
      "execution_count": 53,
      "outputs": [
        {
          "output_type": "execute_result",
          "data": {
            "text/plain": [
              "loan_amnt                  0.00\n",
              "funded_amnt                0.00\n",
              "funded_amnt_inv            0.00\n",
              "term                       0.00\n",
              "int_rate                   0.00\n",
              "installment                0.00\n",
              "grade                      0.00\n",
              "sub_grade                  0.00\n",
              "emp_title                  6.19\n",
              "emp_length                 2.71\n",
              "home_ownership             0.00\n",
              "annual_inc                 0.00\n",
              "verification_status        0.00\n",
              "issue_d                    0.00\n",
              "loan_status                0.00\n",
              "purpose                    0.00\n",
              "dti                        0.00\n",
              "delinq_2yrs                0.00\n",
              "earliest_cr_line           0.00\n",
              "open_acc                   0.00\n",
              "pub_rec                    0.00\n",
              "revol_bal                  0.00\n",
              "revol_util                 0.13\n",
              "total_acc                  0.00\n",
              "out_prncp                  0.00\n",
              "out_prncp_inv              0.00\n",
              "total_pymnt                0.00\n",
              "total_pymnt_inv            0.00\n",
              "total_rec_prncp            0.00\n",
              "total_rec_int              0.00\n",
              "total_rec_late_fee         0.00\n",
              "recoveries                 0.00\n",
              "collection_recovery_fee    0.00\n",
              "last_pymnt_d               0.18\n",
              "last_pymnt_amnt            0.00\n",
              "pub_rec_bankruptcies       1.75\n",
              "dtype: float64"
            ]
          },
          "metadata": {
            "tags": []
          },
          "execution_count": 53
        }
      ]
    },
    {
      "cell_type": "code",
      "metadata": {
        "colab_type": "code",
        "id": "tXG7AiJhhfCf",
        "colab": {}
      },
      "source": [
        "loan.to_csv('updated_loan.csv', encoding='palmos', index=False)"
      ],
      "execution_count": 54,
      "outputs": []
    },
    {
      "cell_type": "code",
      "metadata": {
        "colab_type": "code",
        "id": "i1oMkZ0ahfCk",
        "colab": {}
      },
      "source": [
        "updated_loan=pd.read_csv('updated_loan.csv', encoding='palmos')"
      ],
      "execution_count": 55,
      "outputs": []
    },
    {
      "cell_type": "code",
      "metadata": {
        "colab_type": "code",
        "id": "nNIQuDrHhfCo",
        "colab": {
          "base_uri": "https://localhost:8080/",
          "height": 659
        },
        "outputId": "4ee82ef0-a63d-48c6-d0ca-90bd62e05c4d"
      },
      "source": [
        "round(updated_loan.isnull().sum()/len(updated_loan)*100,2)"
      ],
      "execution_count": 56,
      "outputs": [
        {
          "output_type": "execute_result",
          "data": {
            "text/plain": [
              "loan_amnt                  0.00\n",
              "funded_amnt                0.00\n",
              "funded_amnt_inv            0.00\n",
              "term                       0.00\n",
              "int_rate                   0.00\n",
              "installment                0.00\n",
              "grade                      0.00\n",
              "sub_grade                  0.00\n",
              "emp_title                  6.19\n",
              "emp_length                 2.71\n",
              "home_ownership             0.00\n",
              "annual_inc                 0.00\n",
              "verification_status        0.00\n",
              "issue_d                    0.00\n",
              "loan_status                0.00\n",
              "purpose                    0.00\n",
              "dti                        0.00\n",
              "delinq_2yrs                0.00\n",
              "earliest_cr_line           0.00\n",
              "open_acc                   0.00\n",
              "pub_rec                    0.00\n",
              "revol_bal                  0.00\n",
              "revol_util                 0.13\n",
              "total_acc                  0.00\n",
              "out_prncp                  0.00\n",
              "out_prncp_inv              0.00\n",
              "total_pymnt                0.00\n",
              "total_pymnt_inv            0.00\n",
              "total_rec_prncp            0.00\n",
              "total_rec_int              0.00\n",
              "total_rec_late_fee         0.00\n",
              "recoveries                 0.00\n",
              "collection_recovery_fee    0.00\n",
              "last_pymnt_d               0.18\n",
              "last_pymnt_amnt            0.00\n",
              "pub_rec_bankruptcies       1.75\n",
              "dtype: float64"
            ]
          },
          "metadata": {
            "tags": []
          },
          "execution_count": 56
        }
      ]
    },
    {
      "cell_type": "markdown",
      "metadata": {
        "colab_type": "text",
        "id": "XStsshsMhfCs"
      },
      "source": [
        "### checking axis having more than 5 values"
      ]
    },
    {
      "cell_type": "code",
      "metadata": {
        "colab_type": "code",
        "id": "e23xhqjMhfCt",
        "colab": {
          "base_uri": "https://localhost:8080/",
          "height": 35
        },
        "outputId": "ceac8c0a-15b6-4985-90e4-5778e2a1dc16"
      },
      "source": [
        "len(updated_loan[updated_loan.isnull().sum(axis=1)>5].index)"
      ],
      "execution_count": 57,
      "outputs": [
        {
          "output_type": "execute_result",
          "data": {
            "text/plain": [
              "0"
            ]
          },
          "metadata": {
            "tags": []
          },
          "execution_count": 57
        }
      ]
    },
    {
      "cell_type": "markdown",
      "metadata": {
        "colab_type": "text",
        "id": "tMp9GXkihfCy"
      },
      "source": [
        "### dropping rows of having null or missing values"
      ]
    },
    {
      "cell_type": "markdown",
      "metadata": {
        "colab_type": "text",
        "id": "guaJqZ-8hfCy"
      },
      "source": [
        "##### emp_length"
      ]
    },
    {
      "cell_type": "code",
      "metadata": {
        "colab_type": "code",
        "id": "OMAqExnBhfCz",
        "colab": {}
      },
      "source": [
        "updated_loan=updated_loan[~updated_loan.emp_length.isnull()]"
      ],
      "execution_count": 58,
      "outputs": []
    },
    {
      "cell_type": "markdown",
      "metadata": {
        "colab_type": "text",
        "id": "RrXFiuL3hfC3"
      },
      "source": [
        "##### emp_title"
      ]
    },
    {
      "cell_type": "code",
      "metadata": {
        "colab_type": "code",
        "id": "aEVwISi5hfC4",
        "colab": {}
      },
      "source": [
        "updated_loan=updated_loan[~updated_loan.emp_title.isnull()]"
      ],
      "execution_count": 59,
      "outputs": []
    },
    {
      "cell_type": "markdown",
      "metadata": {
        "colab_type": "text",
        "id": "uqlxX2b4hfC_"
      },
      "source": [
        "##### revol_util   pub_rec_bankruptcies   last_pymnt_d  "
      ]
    },
    {
      "cell_type": "code",
      "metadata": {
        "colab_type": "code",
        "id": "J_4uidWLhfC_",
        "colab": {}
      },
      "source": [
        "updated_loan=updated_loan[~updated_loan.revol_util.isnull()]\n",
        "updated_loan=updated_loan[~updated_loan.pub_rec_bankruptcies.isnull()]\n",
        "updated_loan=updated_loan[~updated_loan.last_pymnt_d.isnull()]"
      ],
      "execution_count": 60,
      "outputs": []
    },
    {
      "cell_type": "code",
      "metadata": {
        "colab_type": "code",
        "id": "3xgP7uxOhfDC",
        "colab": {
          "base_uri": "https://localhost:8080/",
          "height": 35
        },
        "outputId": "ba2a36aa-aa12-4520-c03d-30f166958dab"
      },
      "source": [
        "updated_loan.shape"
      ],
      "execution_count": 61,
      "outputs": [
        {
          "output_type": "execute_result",
          "data": {
            "text/plain": [
              "(36442, 36)"
            ]
          },
          "metadata": {
            "tags": []
          },
          "execution_count": 61
        }
      ]
    },
    {
      "cell_type": "code",
      "metadata": {
        "colab_type": "code",
        "id": "ZrS9DaWNhfDG",
        "colab": {
          "base_uri": "https://localhost:8080/",
          "height": 35
        },
        "outputId": "7f2ea884-27cf-46d1-b10a-49865cddfa74"
      },
      "source": [
        "updated_loan.loan_status.unique()"
      ],
      "execution_count": 62,
      "outputs": [
        {
          "output_type": "execute_result",
          "data": {
            "text/plain": [
              "array(['Charged Off', 'Fully Paid', 'Current'], dtype=object)"
            ]
          },
          "metadata": {
            "tags": []
          },
          "execution_count": 62
        }
      ]
    },
    {
      "cell_type": "markdown",
      "metadata": {
        "colab_type": "text",
        "id": "uajfO2qphfDL"
      },
      "source": [
        "### keeping only charged off and fully paid data"
      ]
    },
    {
      "cell_type": "code",
      "metadata": {
        "colab_type": "code",
        "id": "a34FfwU7hfDM",
        "colab": {}
      },
      "source": [
        "updated_loan=updated_loan[updated_loan['loan_status']!='Current']"
      ],
      "execution_count": 63,
      "outputs": []
    },
    {
      "cell_type": "markdown",
      "metadata": {
        "colab_type": "text",
        "id": "4RfEpFj2hfDR"
      },
      "source": [
        "### remove % from intrest rate"
      ]
    },
    {
      "cell_type": "code",
      "metadata": {
        "colab_type": "code",
        "id": "ksAvswguhfDR",
        "colab": {}
      },
      "source": [
        "updated_loan['int_rate']=updated_loan.int_rate.apply(lambda x:pd.to_numeric(x.split(\"%\")[0]))"
      ],
      "execution_count": 64,
      "outputs": []
    },
    {
      "cell_type": "code",
      "metadata": {
        "colab_type": "code",
        "id": "vLOw1bmshfDW",
        "colab": {
          "base_uri": "https://localhost:8080/",
          "height": 225
        },
        "outputId": "9fca0d4f-ac3e-4f80-866f-19d2292e9787"
      },
      "source": [
        "updated_loan.int_rate"
      ],
      "execution_count": 65,
      "outputs": [
        {
          "output_type": "execute_result",
          "data": {
            "text/plain": [
              "1        15.27\n",
              "3        13.49\n",
              "5         7.90\n",
              "6        15.96\n",
              "7        18.64\n",
              "         ...  \n",
              "39551    10.91\n",
              "39562    10.28\n",
              "39623    12.49\n",
              "39666    11.22\n",
              "39680    11.86\n",
              "Name: int_rate, Length: 35376, dtype: float64"
            ]
          },
          "metadata": {
            "tags": []
          },
          "execution_count": 65
        }
      ]
    },
    {
      "cell_type": "code",
      "metadata": {
        "colab_type": "code",
        "id": "5Fj2XHIPhfDb",
        "colab": {
          "base_uri": "https://localhost:8080/",
          "height": 55
        },
        "outputId": "95a0c4ec-1409-442e-91ee-aba19b58ee16"
      },
      "source": [
        "updated_loan.columns"
      ],
      "execution_count": 66,
      "outputs": [
        {
          "output_type": "execute_result",
          "data": {
            "text/plain": [
              "Index(['loan_amnt', 'funded_amnt', 'funded_amnt_inv', 'term', 'int_rate', 'installment', 'grade', 'sub_grade', 'emp_title', 'emp_length', 'home_ownership', 'annual_inc', 'verification_status', 'issue_d', 'loan_status', 'purpose', 'dti', 'delinq_2yrs', 'earliest_cr_line', 'open_acc', 'pub_rec', 'revol_bal', 'revol_util', 'total_acc', 'out_prncp', 'out_prncp_inv', 'total_pymnt', 'total_pymnt_inv', 'total_rec_prncp', 'total_rec_int', 'total_rec_late_fee', 'recoveries', 'collection_recovery_fee', 'last_pymnt_d', 'last_pymnt_amnt', 'pub_rec_bankruptcies'], dtype='object')"
            ]
          },
          "metadata": {
            "tags": []
          },
          "execution_count": 66
        }
      ]
    },
    {
      "cell_type": "code",
      "metadata": {
        "id": "jNRcjCGpxToG",
        "colab_type": "code",
        "colab": {
          "base_uri": "https://localhost:8080/",
          "height": 659
        },
        "outputId": "560178f0-fed0-4d3b-b0b2-e12873ac9940"
      },
      "source": [
        "updated_loan.isnull().sum()"
      ],
      "execution_count": 67,
      "outputs": [
        {
          "output_type": "execute_result",
          "data": {
            "text/plain": [
              "loan_amnt                  0\n",
              "funded_amnt                0\n",
              "funded_amnt_inv            0\n",
              "term                       0\n",
              "int_rate                   0\n",
              "installment                0\n",
              "grade                      0\n",
              "sub_grade                  0\n",
              "emp_title                  0\n",
              "emp_length                 0\n",
              "home_ownership             0\n",
              "annual_inc                 0\n",
              "verification_status        0\n",
              "issue_d                    0\n",
              "loan_status                0\n",
              "purpose                    0\n",
              "dti                        0\n",
              "delinq_2yrs                0\n",
              "earliest_cr_line           0\n",
              "open_acc                   0\n",
              "pub_rec                    0\n",
              "revol_bal                  0\n",
              "revol_util                 0\n",
              "total_acc                  0\n",
              "out_prncp                  0\n",
              "out_prncp_inv              0\n",
              "total_pymnt                0\n",
              "total_pymnt_inv            0\n",
              "total_rec_prncp            0\n",
              "total_rec_int              0\n",
              "total_rec_late_fee         0\n",
              "recoveries                 0\n",
              "collection_recovery_fee    0\n",
              "last_pymnt_d               0\n",
              "last_pymnt_amnt            0\n",
              "pub_rec_bankruptcies       0\n",
              "dtype: int64"
            ]
          },
          "metadata": {
            "tags": []
          },
          "execution_count": 67
        }
      ]
    },
    {
      "cell_type": "code",
      "metadata": {
        "id": "LDRZQd5FxToJ",
        "colab_type": "code",
        "colab": {}
      },
      "source": [
        "loan = loan[~loan['emp_length'].isnull()]"
      ],
      "execution_count": 68,
      "outputs": []
    },
    {
      "cell_type": "code",
      "metadata": {
        "id": "vQUjcHhdxToM",
        "colab_type": "code",
        "colab": {}
      },
      "source": [
        "import re\n",
        "loan['emp_length'] = loan['emp_length'].apply(lambda x: re.findall('\\d+', str(x))[0])"
      ],
      "execution_count": 69,
      "outputs": []
    },
    {
      "cell_type": "code",
      "metadata": {
        "id": "yQXz7qFqxToO",
        "colab_type": "code",
        "colab": {}
      },
      "source": [
        "# convert to numeric\n",
        "loan['emp_length'] = loan['emp_length'].apply(lambda x: pd.to_numeric(x))"
      ],
      "execution_count": 70,
      "outputs": []
    },
    {
      "cell_type": "code",
      "metadata": {
        "id": "Kgg-qf6dxToQ",
        "colab_type": "code",
        "colab": {
          "base_uri": "https://localhost:8080/",
          "height": 763
        },
        "outputId": "b385c7d6-4243-41a3-cfe1-e0f6f8884191"
      },
      "source": [
        "loan.info()\n"
      ],
      "execution_count": 71,
      "outputs": [
        {
          "output_type": "stream",
          "text": [
            "<class 'pandas.core.frame.DataFrame'>\n",
            "Int64Index: 38642 entries, 0 to 39716\n",
            "Data columns (total 36 columns):\n",
            " #   Column                   Non-Null Count  Dtype  \n",
            "---  ------                   --------------  -----  \n",
            " 0   loan_amnt                38642 non-null  int64  \n",
            " 1   funded_amnt              38642 non-null  int64  \n",
            " 2   funded_amnt_inv          38642 non-null  float64\n",
            " 3   term                     38642 non-null  object \n",
            " 4   int_rate                 38642 non-null  object \n",
            " 5   installment              38642 non-null  float64\n",
            " 6   grade                    38642 non-null  object \n",
            " 7   sub_grade                38642 non-null  object \n",
            " 8   emp_title                37202 non-null  object \n",
            " 9   emp_length               38642 non-null  int64  \n",
            " 10  home_ownership           38642 non-null  object \n",
            " 11  annual_inc               38642 non-null  float64\n",
            " 12  verification_status      38642 non-null  object \n",
            " 13  issue_d                  38642 non-null  object \n",
            " 14  loan_status              38642 non-null  object \n",
            " 15  purpose                  38642 non-null  object \n",
            " 16  dti                      38642 non-null  float64\n",
            " 17  delinq_2yrs              38642 non-null  int64  \n",
            " 18  earliest_cr_line         38642 non-null  object \n",
            " 19  open_acc                 38642 non-null  int64  \n",
            " 20  pub_rec                  38642 non-null  int64  \n",
            " 21  revol_bal                38642 non-null  int64  \n",
            " 22  revol_util               38595 non-null  object \n",
            " 23  total_acc                38642 non-null  int64  \n",
            " 24  out_prncp                38642 non-null  float64\n",
            " 25  out_prncp_inv            38642 non-null  float64\n",
            " 26  total_pymnt              38642 non-null  float64\n",
            " 27  total_pymnt_inv          38642 non-null  float64\n",
            " 28  total_rec_prncp          38642 non-null  float64\n",
            " 29  total_rec_int            38642 non-null  float64\n",
            " 30  total_rec_late_fee       38642 non-null  float64\n",
            " 31  recoveries               38642 non-null  float64\n",
            " 32  collection_recovery_fee  38642 non-null  float64\n",
            " 33  last_pymnt_d             38576 non-null  object \n",
            " 34  last_pymnt_amnt          38642 non-null  float64\n",
            " 35  pub_rec_bankruptcies     37945 non-null  float64\n",
            "dtypes: float64(15), int64(8), object(13)\n",
            "memory usage: 10.9+ MB\n"
          ],
          "name": "stdout"
        }
      ]
    },
    {
      "cell_type": "markdown",
      "metadata": {
        "id": "KlLADa8gxToS",
        "colab_type": "text"
      },
      "source": [
        "####  The objective is to identify predictors of default so that at the time of loan application, we can use those variables for approval/rejection of the loan. Now, there are broadly three types of variables - 1. those which are related to the applicant (demographic variables such as age, occupation, employment details etc.), 2. loan characteristics (amount of loan, interest rate, purpose of loan etc.) and 3. Customer behaviour variables (those which are generated after the loan is approved such as delinquent 2 years, revolving balance, next payment date etc.)."
      ]
    },
    {
      "cell_type": "code",
      "metadata": {
        "id": "zBlS8QpBxToT",
        "colab_type": "code",
        "colab": {
          "base_uri": "https://localhost:8080/",
          "height": 329
        },
        "outputId": "66d89b15-9474-4758-f17c-88341be6bf3d"
      },
      "source": [
        "behaviour_var =  [\n",
        "  \"delinq_2yrs\",\n",
        "  \"earliest_cr_line\",\n",
        "  \"open_acc\",\n",
        "  \"pub_rec\",\n",
        "  \"revol_bal\",\n",
        "  \"revol_util\",\n",
        "  \"total_acc\",\n",
        "  \"out_prncp\",\n",
        "  \"out_prncp_inv\",\n",
        "  \"total_pymnt\",\n",
        "  \"total_pymnt_inv\",\n",
        "  \"total_rec_prncp\",\n",
        "  \"total_rec_int\",\n",
        "  \"total_rec_late_fee\",\n",
        "  \"recoveries\",\n",
        "  \"collection_recovery_fee\",\n",
        "  \"last_pymnt_d\",\n",
        "  \"last_pymnt_amnt\",\n",
        "  ]\n",
        "behaviour_var"
      ],
      "execution_count": 72,
      "outputs": [
        {
          "output_type": "execute_result",
          "data": {
            "text/plain": [
              "['delinq_2yrs',\n",
              " 'earliest_cr_line',\n",
              " 'open_acc',\n",
              " 'pub_rec',\n",
              " 'revol_bal',\n",
              " 'revol_util',\n",
              " 'total_acc',\n",
              " 'out_prncp',\n",
              " 'out_prncp_inv',\n",
              " 'total_pymnt',\n",
              " 'total_pymnt_inv',\n",
              " 'total_rec_prncp',\n",
              " 'total_rec_int',\n",
              " 'total_rec_late_fee',\n",
              " 'recoveries',\n",
              " 'collection_recovery_fee',\n",
              " 'last_pymnt_d',\n",
              " 'last_pymnt_amnt']"
            ]
          },
          "metadata": {
            "tags": []
          },
          "execution_count": 72
        }
      ]
    },
    {
      "cell_type": "code",
      "metadata": {
        "id": "WVL1c5M2xToV",
        "colab_type": "code",
        "colab": {
          "base_uri": "https://localhost:8080/",
          "height": 451
        },
        "outputId": "e42c3b11-fb91-4715-9d1c-195a5d6af572"
      },
      "source": [
        "df = loan.drop(behaviour_var, axis=1)\n",
        "df.info()"
      ],
      "execution_count": 73,
      "outputs": [
        {
          "output_type": "stream",
          "text": [
            "<class 'pandas.core.frame.DataFrame'>\n",
            "Int64Index: 38642 entries, 0 to 39716\n",
            "Data columns (total 18 columns):\n",
            " #   Column                Non-Null Count  Dtype  \n",
            "---  ------                --------------  -----  \n",
            " 0   loan_amnt             38642 non-null  int64  \n",
            " 1   funded_amnt           38642 non-null  int64  \n",
            " 2   funded_amnt_inv       38642 non-null  float64\n",
            " 3   term                  38642 non-null  object \n",
            " 4   int_rate              38642 non-null  object \n",
            " 5   installment           38642 non-null  float64\n",
            " 6   grade                 38642 non-null  object \n",
            " 7   sub_grade             38642 non-null  object \n",
            " 8   emp_title             37202 non-null  object \n",
            " 9   emp_length            38642 non-null  int64  \n",
            " 10  home_ownership        38642 non-null  object \n",
            " 11  annual_inc            38642 non-null  float64\n",
            " 12  verification_status   38642 non-null  object \n",
            " 13  issue_d               38642 non-null  object \n",
            " 14  loan_status           38642 non-null  object \n",
            " 15  purpose               38642 non-null  object \n",
            " 16  dti                   38642 non-null  float64\n",
            " 17  pub_rec_bankruptcies  37945 non-null  float64\n",
            "dtypes: float64(5), int64(3), object(10)\n",
            "memory usage: 5.6+ MB\n"
          ],
          "name": "stdout"
        }
      ]
    },
    {
      "cell_type": "code",
      "metadata": {
        "id": "CV4s9w4XxToZ",
        "colab_type": "code",
        "colab": {
          "base_uri": "https://localhost:8080/",
          "height": 87
        },
        "outputId": "d34fe66c-d5e7-4f13-a072-2b51272eb51b"
      },
      "source": [
        "df['loan_status'] = df['loan_status'].astype('category')\n",
        "df['loan_status'].value_counts()"
      ],
      "execution_count": 74,
      "outputs": [
        {
          "output_type": "execute_result",
          "data": {
            "text/plain": [
              "Fully Paid     32145\n",
              "Charged Off     5399\n",
              "Current         1098\n",
              "Name: loan_status, dtype: int64"
            ]
          },
          "metadata": {
            "tags": []
          },
          "execution_count": 74
        }
      ]
    },
    {
      "cell_type": "code",
      "metadata": {
        "id": "0fCQ3lv5xTod",
        "colab_type": "code",
        "colab": {
          "base_uri": "https://localhost:8080/",
          "height": 69
        },
        "outputId": "c7cd3cd3-23b1-4444-9292-d87ede69e34a"
      },
      "source": [
        "df = df[df['loan_status'] != 'Current']\n",
        "df['loan_status'] = df['loan_status'].apply(lambda x: 0 if x=='Fully Paid' else 1)\n",
        "\n",
        "# converting loan_status to integer type\n",
        "df['loan_status'] = df['loan_status'].apply(lambda x: pd.to_numeric(x))\n",
        "\n",
        "# summarising the values\n",
        "df['loan_status'].value_counts()"
      ],
      "execution_count": 75,
      "outputs": [
        {
          "output_type": "execute_result",
          "data": {
            "text/plain": [
              "0    32145\n",
              "1     5399\n",
              "Name: loan_status, dtype: int64"
            ]
          },
          "metadata": {
            "tags": []
          },
          "execution_count": 75
        }
      ]
    },
    {
      "cell_type": "markdown",
      "metadata": {
        "id": "gpzefrhUxTog",
        "colab_type": "text"
      },
      "source": [
        " ### Univariate Analysis"
      ]
    },
    {
      "cell_type": "code",
      "metadata": {
        "id": "UwSSBAlZxTog",
        "colab_type": "code",
        "colab": {
          "base_uri": "https://localhost:8080/",
          "height": 35
        },
        "outputId": "b2046946-9499-441d-f0d0-70e942ad8b5c"
      },
      "source": [
        "round(np.mean(df['loan_status']), 2)"
      ],
      "execution_count": 76,
      "outputs": [
        {
          "output_type": "execute_result",
          "data": {
            "text/plain": [
              "0.14"
            ]
          },
          "metadata": {
            "tags": []
          },
          "execution_count": 76
        }
      ]
    },
    {
      "cell_type": "code",
      "metadata": {
        "id": "FbjUGgtBxToj",
        "colab_type": "code",
        "colab": {
          "base_uri": "https://localhost:8080/",
          "height": 279
        },
        "outputId": "2e944aeb-6d97-4b34-90d0-15446977e3c2"
      },
      "source": [
        "# plotting default rates across grade of the loan\n",
        "#Let's first visualise the average default rates across categorical variables.\n",
        "sns.barplot(x='grade', y='loan_status', data=df)\n",
        "plt.show()"
      ],
      "execution_count": 77,
      "outputs": [
        {
          "output_type": "display_data",
          "data": {
            "image/png": "[encoded data removed]",
            "text/plain": [
              "<Figure size 432x288 with 1 Axes>"
            ]
          },
          "metadata": {
            "tags": [],
            "needs_background": "light"
          }
        }
      ]
    },
    {
      "cell_type": "code",
      "metadata": {
        "id": "M_BbGan4xToo",
        "colab_type": "code",
        "colab": {}
      },
      "source": [
        "# lets define a function to plot loan_status across categorical variables\n",
        "def plot_cat(cat_var):\n",
        "    sns.barplot(x=cat_var, y='loan_status', data=df)\n",
        "    "
      ],
      "execution_count": 78,
      "outputs": []
    },
    {
      "cell_type": "code",
      "metadata": {
        "id": "HuUus9xKxTos",
        "colab_type": "code",
        "colab": {
          "base_uri": "https://localhost:8080/",
          "height": 281
        },
        "outputId": "535c62b1-0593-45a1-b164-5f428934de93"
      },
      "source": [
        "\n",
        "# compare default rates across grade of loan\n",
        "plot_cat('grade')"
      ],
      "execution_count": 79,
      "outputs": [
        {
          "output_type": "display_data",
          "data": {
            "image/png": "[encoded data removed]",
            "text/plain": [
              "<Figure size 432x288 with 1 Axes>"
            ]
          },
          "metadata": {
            "tags": [],
            "needs_background": "light"
          }
        }
      ]
    },
    {
      "cell_type": "code",
      "metadata": {
        "id": "r-w1PXShxTow",
        "colab_type": "code",
        "colab": {
          "base_uri": "https://localhost:8080/",
          "height": 279
        },
        "outputId": "498181a0-dfd0-4e39-eb08-7e8ed57dbaba"
      },
      "source": [
        "\n",
        "# term: 60 months loans default more than 36 months loans\n",
        "plot_cat('term')"
      ],
      "execution_count": 80,
      "outputs": [
        {
          "output_type": "display_data",
          "data": {
            "image/png": "[encoded data removed]",
            "text/plain": [
              "<Figure size 432x288 with 1 Axes>"
            ]
          },
          "metadata": {
            "tags": [],
            "needs_background": "light"
          }
        }
      ]
    },
    {
      "cell_type": "code",
      "metadata": {
        "id": "Wh9IDFvSxToz",
        "colab_type": "code",
        "colab": {
          "base_uri": "https://localhost:8080/",
          "height": 389
        },
        "outputId": "03f85072-ab9e-4151-ef82-41def3ef5293"
      },
      "source": [
        "plt.figure(figsize=(16, 6))\n",
        "plot_cat('sub_grade')"
      ],
      "execution_count": 82,
      "outputs": [
        {
          "output_type": "display_data",
          "data": {
            "image/png": "[encoded data removed]",
            "text/plain": [
              "<Figure size 1152x432 with 1 Axes>"
            ]
          },
          "metadata": {
            "tags": [],
            "needs_background": "light"
          }
        }
      ]
    },
    {
      "cell_type": "code",
      "metadata": {
        "id": "O-EeLl3qxTo3",
        "colab_type": "code",
        "colab": {
          "base_uri": "https://localhost:8080/",
          "height": 280
        },
        "outputId": "3694b155-72a9-442a-8884-9f07e2201966"
      },
      "source": [
        "\n",
        "# home ownership: not a great discriminator\n",
        "plot_cat('home_ownership')"
      ],
      "execution_count": 83,
      "outputs": [
        {
          "output_type": "display_data",
          "data": {
            "image/png": "[encoded data removed]",
            "text/plain": [
              "<Figure size 432x288 with 1 Axes>"
            ]
          },
          "metadata": {
            "tags": [],
            "needs_background": "light"
          }
        }
      ]
    },
    {
      "cell_type": "code",
      "metadata": {
        "id": "n_HEOfFcxTo6",
        "colab_type": "code",
        "colab": {
          "base_uri": "https://localhost:8080/",
          "height": 280
        },
        "outputId": "5ebda14c-8773-4302-9e3d-3dd5227dfca5"
      },
      "source": [
        "# verification_status: surprisingly, verified loans default more than not verifiedb\n",
        "plot_cat('verification_status')"
      ],
      "execution_count": 84,
      "outputs": [
        {
          "output_type": "display_data",
          "data": {
            "image/png": "[encoded data removed]",
            "text/plain": [
              "<Figure size 432x288 with 1 Axes>"
            ]
          },
          "metadata": {
            "tags": [],
            "needs_background": "light"
          }
        }
      ]
    },
    {
      "cell_type": "code",
      "metadata": {
        "id": "rogc6Ke5xTo9",
        "colab_type": "code",
        "colab": {
          "base_uri": "https://localhost:8080/",
          "height": 303
        },
        "outputId": "d18b994b-2b48-4cab-f3b4-49599dca89e6"
      },
      "source": [
        "plt.figure(figsize=(26, 6))\n",
        "plot_cat('purpose')"
      ],
      "execution_count": 88,
      "outputs": [
        {
          "output_type": "display_data",
          "data": {
            "image/png": "[encoded data removed]",
            "text/plain": [
              "<Figure size 1872x432 with 1 Axes>"
            ]
          },
          "metadata": {
            "tags": [],
            "needs_background": "light"
          }
        }
      ]
    },
    {
      "cell_type": "code",
      "metadata": {
        "id": "DlelBNadxTpA",
        "colab_type": "code",
        "colab": {
          "base_uri": "https://localhost:8080/",
          "height": 121
        },
        "outputId": "9b882a5e-c592-4e01-e82c-91d988cb49ed"
      },
      "source": [
        "df['issue_d'].head()"
      ],
      "execution_count": 89,
      "outputs": [
        {
          "output_type": "execute_result",
          "data": {
            "text/plain": [
              "0    Dec-11\n",
              "1    Dec-11\n",
              "2    Dec-11\n",
              "3    Dec-11\n",
              "5    Dec-11\n",
              "Name: issue_d, dtype: object"
            ]
          },
          "metadata": {
            "tags": []
          },
          "execution_count": 89
        }
      ]
    },
    {
      "cell_type": "code",
      "metadata": {
        "id": "TLzJd-_sxTpD",
        "colab_type": "code",
        "colab": {}
      },
      "source": [
        "from datetime import datetime\n",
        "df['issue_d'] = df['issue_d'].apply(lambda x: datetime.strptime(x, '%b-%y'))"
      ],
      "execution_count": 90,
      "outputs": []
    },
    {
      "cell_type": "code",
      "metadata": {
        "id": "dx6iYbeExTpE",
        "colab_type": "code",
        "colab": {}
      },
      "source": [
        "\n",
        "# extracting month and year from issue_date\n",
        "df['month'] = df['issue_d'].apply(lambda x: x.month)\n",
        "df['year'] = df['issue_d'].apply(lambda x: x.year)"
      ],
      "execution_count": 91,
      "outputs": []
    },
    {
      "cell_type": "code",
      "metadata": {
        "id": "bRlG5jNYxTpH",
        "colab_type": "code",
        "colab": {
          "base_uri": "https://localhost:8080/",
          "height": 139
        },
        "outputId": "885ab7c4-d781-4805-9298-adf23cbfce44"
      },
      "source": [
        "# let's first observe the number of loans granted across years\n",
        "df.groupby('year').year.count()"
      ],
      "execution_count": 92,
      "outputs": [
        {
          "output_type": "execute_result",
          "data": {
            "text/plain": [
              "year\n",
              "2007      251\n",
              "2008     1562\n",
              "2009     4716\n",
              "2010    11214\n",
              "2011    19801\n",
              "Name: year, dtype: int64"
            ]
          },
          "metadata": {
            "tags": []
          },
          "execution_count": 92
        }
      ]
    },
    {
      "cell_type": "code",
      "metadata": {
        "id": "6kvYRtmNxTpL",
        "colab_type": "code",
        "colab": {
          "base_uri": "https://localhost:8080/",
          "height": 260
        },
        "outputId": "cd1d7544-abd0-47e8-908c-35cf6dae9b4d"
      },
      "source": [
        "df.groupby('month').month.count()"
      ],
      "execution_count": 93,
      "outputs": [
        {
          "output_type": "execute_result",
          "data": {
            "text/plain": [
              "month\n",
              "1     2331\n",
              "2     2278\n",
              "3     2632\n",
              "4     2756\n",
              "5     2838\n",
              "6     3094\n",
              "7     3253\n",
              "8     3321\n",
              "9     3394\n",
              "10    3637\n",
              "11    3890\n",
              "12    4120\n",
              "Name: month, dtype: int64"
            ]
          },
          "metadata": {
            "tags": []
          },
          "execution_count": 93
        }
      ]
    },
    {
      "cell_type": "code",
      "metadata": {
        "id": "8diAjIgNxTpN",
        "colab_type": "code",
        "colab": {
          "base_uri": "https://localhost:8080/",
          "height": 279
        },
        "outputId": "7d75c16e-c1c3-40fc-e122-b0930cd23865"
      },
      "source": [
        "# lets compare the default rates across years\n",
        "# the default rate had suddenly increased in 2011, inspite of reducing from 2008 till 2010\n",
        "plot_cat('year')"
      ],
      "execution_count": 94,
      "outputs": [
        {
          "output_type": "display_data",
          "data": {
            "image/png": "[encoded data removed]",
            "text/plain": [
              "<Figure size 432x288 with 1 Axes>"
            ]
          },
          "metadata": {
            "tags": [],
            "needs_background": "light"
          }
        }
      ]
    },
    {
      "cell_type": "code",
      "metadata": {
        "id": "q--sPOEyxTpS",
        "colab_type": "code",
        "colab": {
          "base_uri": "https://localhost:8080/",
          "height": 388
        },
        "outputId": "ad6aa0e7-cfac-4f4c-bf1f-60159cf55acc"
      },
      "source": [
        "# comparing default rates across months: not much variation across months\n",
        "plt.figure(figsize=(16, 6))\n",
        "plot_cat('month')"
      ],
      "execution_count": 96,
      "outputs": [
        {
          "output_type": "display_data",
          "data": {
            "image/png": "[encoded data removed]",
            "text/plain": [
              "<Figure size 1152x432 with 1 Axes>"
            ]
          },
          "metadata": {
            "tags": [],
            "needs_background": "light"
          }
        }
      ]
    },
    {
      "cell_type": "code",
      "metadata": {
        "id": "fTI2IY-SxTpV",
        "colab_type": "code",
        "colab": {
          "base_uri": "https://localhost:8080/",
          "height": 280
        },
        "outputId": "bc2ba48c-15d2-4df8-dcc2-f7e927f35f6d"
      },
      "source": [
        "\n",
        "# loan amount: the median loan amount is around 10,000\n",
        "sns.distplot(df['loan_amnt'])\n",
        "plt.show()"
      ],
      "execution_count": 99,
      "outputs": [
        {
          "output_type": "display_data",
          "data": {
            "image/png": "[encoded data removed]",
            "text/plain": [
              "<Figure size 432x288 with 1 Axes>"
            ]
          },
          "metadata": {
            "tags": [],
            "needs_background": "light"
          }
        }
      ]
    },
    {
      "cell_type": "code",
      "metadata": {
        "id": "tF_Kgbs9xTpY",
        "colab_type": "code",
        "colab": {}
      },
      "source": [
        "# binning loan amount\n",
        "def loan_amount(n):\n",
        "    if n < 5000:\n",
        "        return 'low'\n",
        "    elif n >=5000 and n < 15000:\n",
        "        return 'medium'\n",
        "    elif n >= 15000 and n < 25000:\n",
        "        return 'high'\n",
        "    else:\n",
        "        return 'very high'\n",
        "        \n",
        "df['loan_amnt'] = df['loan_amnt'].apply(lambda x: loan_amount(x))"
      ],
      "execution_count": 100,
      "outputs": []
    },
    {
      "cell_type": "code",
      "metadata": {
        "id": "kKMaRg5axTpc",
        "colab_type": "code",
        "colab": {
          "base_uri": "https://localhost:8080/",
          "height": 104
        },
        "outputId": "ab615062-220b-4baf-97cd-06f38a8b7a8f"
      },
      "source": [
        "df['loan_amnt'].value_counts()"
      ],
      "execution_count": 101,
      "outputs": [
        {
          "output_type": "execute_result",
          "data": {
            "text/plain": [
              "medium       20157\n",
              "high          7572\n",
              "low           7095\n",
              "very high     2720\n",
              "Name: loan_amnt, dtype: int64"
            ]
          },
          "metadata": {
            "tags": []
          },
          "execution_count": 101
        }
      ]
    },
    {
      "cell_type": "code",
      "metadata": {
        "id": "FPPJk0a_xTph",
        "colab_type": "code",
        "colab": {}
      },
      "source": [
        "# let's compare the default rates across loan amount type\n",
        "# higher the loan amount, higher the default rate\n",
        "plot_cat('loan_amnt')"
      ],
      "execution_count": null,
      "outputs": []
    },
    {
      "cell_type": "code",
      "metadata": {
        "id": "4zdgIbEoxTpj",
        "colab_type": "code",
        "colab": {}
      },
      "source": [
        "plot_cat('funded_amnt_inv')"
      ],
      "execution_count": null,
      "outputs": []
    },
    {
      "cell_type": "code",
      "metadata": {
        "id": "2hii6ZIzxTpl",
        "colab_type": "code",
        "colab": {}
      },
      "source": [
        "# high interest rates default more, as expected\n",
        "plot_cat('int_rate')\n"
      ],
      "execution_count": null,
      "outputs": []
    },
    {
      "cell_type": "code",
      "metadata": {
        "id": "kGmMnXWIxTpn",
        "colab_type": "code",
        "colab": {}
      },
      "source": [
        "# debt to income ratio\n",
        "def dti(n):\n",
        "    if n <= 10:\n",
        "        return 'low'\n",
        "    elif n > 10 and n <=20:\n",
        "        return 'medium'\n",
        "    else:\n",
        "        return 'high'\n",
        "    \n",
        "\n",
        "df['dti'] = df['dti'].apply(lambda x: dti(x))"
      ],
      "execution_count": null,
      "outputs": []
    },
    {
      "cell_type": "code",
      "metadata": {
        "id": "6YUtZOjMxTpq",
        "colab_type": "code",
        "colab": {}
      },
      "source": [
        "plot_cat('dti')\n"
      ],
      "execution_count": null,
      "outputs": []
    },
    {
      "cell_type": "code",
      "metadata": {
        "id": "81eNDkqoxTpt",
        "colab_type": "code",
        "colab": {}
      },
      "source": [
        "\n",
        "# funded amount\n",
        "def funded_amount(n):\n",
        "    if n <= 5000:\n",
        "        return 'low'\n",
        "    elif n > 5000 and n <=15000:\n",
        "        return 'medium'\n",
        "    else:\n",
        "        return 'high'\n",
        "    \n",
        "df['funded_amnt'] = df['funded_amnt'].apply(lambda x: funded_amount(x))"
      ],
      "execution_count": null,
      "outputs": []
    },
    {
      "cell_type": "code",
      "metadata": {
        "id": "s-liurEmxTpw",
        "colab_type": "code",
        "colab": {}
      },
      "source": [
        "plot_cat('funded_amnt')\n"
      ],
      "execution_count": null,
      "outputs": []
    },
    {
      "cell_type": "code",
      "metadata": {
        "id": "n87nlFjKxTpy",
        "colab_type": "code",
        "colab": {}
      },
      "source": [
        "def installment(n):\n",
        "    if n <= 200:\n",
        "        return 'low'\n",
        "    elif n > 200 and n <=400:\n",
        "        return 'medium'\n",
        "    elif n > 400 and n <=600:\n",
        "        return 'high'\n",
        "    else:\n",
        "        return 'very high'\n",
        "    \n",
        "df['installment'] = df['installment'].apply(lambda x: installment(x))"
      ],
      "execution_count": null,
      "outputs": []
    },
    {
      "cell_type": "code",
      "metadata": {
        "id": "R2g5CcRAxTp0",
        "colab_type": "code",
        "colab": {}
      },
      "source": [
        ""
      ],
      "execution_count": null,
      "outputs": []
    }
  ]
}